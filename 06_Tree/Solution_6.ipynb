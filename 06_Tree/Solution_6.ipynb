{
  "nbformat": 4,
  "nbformat_minor": 0,
  "metadata": {
    "colab": {
      "provenance": [],
      "include_colab_link": true
    },
    "kernelspec": {
      "name": "python3",
      "display_name": "Python 3"
    },
    "language_info": {
      "name": "python"
    }
  },
  "cells": [
    {
      "cell_type": "markdown",
      "metadata": {
        "id": "view-in-github",
        "colab_type": "text"
      },
      "source": [
        "<a href=\"https://colab.research.google.com/github/TolleDennis/basic-ml-course/blob/tree%2Frf/06_Tree/Solution_6.ipynb\" target=\"_parent\"><img src=\"https://colab.research.google.com/assets/colab-badge.svg\" alt=\"Open In Colab\"/></a>"
      ]
    },
    {
      "cell_type": "markdown",
      "source": [
        "# Solution 6: Decision tree & Random forest\n",
        "\n",
        "\n",
        "Implement everywhere that has ..."
      ],
      "metadata": {
        "id": "JhpQ0Psh6CYr"
      }
    },
    {
      "cell_type": "code",
      "source": [
        "import pandas as pd\n",
        "import numpy as np \n",
        "import matplotlib.pyplot as plt\n",
        "from sklearn.datasets import fetch_california_housing"
      ],
      "metadata": {
        "id": "SDV_S_yM5lIP"
      },
      "execution_count": 2,
      "outputs": []
    },
    {
      "cell_type": "code",
      "execution_count": 3,
      "metadata": {
        "id": "jgWYc7Im5kiN",
        "colab": {
          "base_uri": "https://localhost:8080/"
        },
        "outputId": "0a3ef998-bc85-43f8-9e8b-164c5a9a7d15"
      },
      "outputs": [
        {
          "output_type": "stream",
          "name": "stdout",
          "text": [
            "(20640, 8) (20640,)\n"
          ]
        }
      ],
      "source": [
        "# Load the data\n",
        "data = fetch_california_housing()\n",
        "X, y = data.data, data.target\n",
        "feature_names = data.feature_names\n",
        "print(X.shape, y.shape)"
      ]
    },
    {
      "cell_type": "code",
      "source": [
        "data[\"feature_names\"]"
      ],
      "metadata": {
        "colab": {
          "base_uri": "https://localhost:8080/"
        },
        "id": "m01bV_gZTNXM",
        "outputId": "e36bc5fa-41cc-4df5-dcdf-f2b90908e1f4"
      },
      "execution_count": 4,
      "outputs": [
        {
          "output_type": "execute_result",
          "data": {
            "text/plain": [
              "['MedInc',\n",
              " 'HouseAge',\n",
              " 'AveRooms',\n",
              " 'AveBedrms',\n",
              " 'Population',\n",
              " 'AveOccup',\n",
              " 'Latitude',\n",
              " 'Longitude']"
            ]
          },
          "metadata": {},
          "execution_count": 4
        }
      ]
    },
    {
      "cell_type": "code",
      "source": [
        "data[\"target_names\"]"
      ],
      "metadata": {
        "colab": {
          "base_uri": "https://localhost:8080/"
        },
        "id": "C3t83cv6S91t",
        "outputId": "7b0bde82-6ad5-4f75-b461-f35d2db64070"
      },
      "execution_count": 5,
      "outputs": [
        {
          "output_type": "execute_result",
          "data": {
            "text/plain": [
              "['MedHouseVal']"
            ]
          },
          "metadata": {},
          "execution_count": 5
        }
      ]
    },
    {
      "cell_type": "markdown",
      "source": [
        "## Task 1 (1pt)\n",
        "\n",
        "* Split the data into a training and validation set with 80%/20% distribution\n",
        "* Use [train_test_split](https://scikit-learn.org/stable/modules/generated/sklearn.model_selection.train_test_split.html) function from sklearn for this. Remember to set the `random_state` parameter to 0 \n",
        "\n",
        "\n"
      ],
      "metadata": {
        "id": "4__JnyX_8Cxn"
      }
    },
    {
      "cell_type": "code",
      "source": [
        "\n",
        "from sklearn.model_selection import train_test_split\n",
        "X_train, X_valid, y_train, y_valid = train_test_split(X,y,test_size = 0.2,random_state = 0)"
      ],
      "metadata": {
        "id": "_C-xPZOe7Qm5"
      },
      "execution_count": 6,
      "outputs": []
    },
    {
      "cell_type": "markdown",
      "source": [
        "## Task 2 (1 pt)\n",
        "Train a decision tree model to predict house price. Remember to use the training set `X_train` to train the model\n",
        "* Train a model with `max_depth=1`. Remember to set the `random_state=0` \n",
        "* Visualize the tree you just trained. You can refer to the code from the lecture video. \n",
        "* Which feature was used to split the data (choose 1 and write you answer in a comment below the code\n",
        "    * `MedInc`\n",
        "    * `AveRooms`\n",
        "    * `AveBedrms`\n",
        "    * `HouseAge`"
      ],
      "metadata": {
        "id": "AZsxbOnH97Y3"
      }
    },
    {
      "cell_type": "code",
      "source": [
        "from sklearn.tree import DecisionTreeRegressor, export_graphviz\n",
        "# for visualization\n",
        "import graphviz"
      ],
      "metadata": {
        "id": "ETFCCvHA-V4d"
      },
      "execution_count": 7,
      "outputs": []
    },
    {
      "cell_type": "code",
      "source": [
        "from sklearn.metrics.cluster import entropy\n",
        "# Initialize the decision tree class and train the decision tree\n",
        "tree = DecisionTreeRegressor(random_state=0, max_depth=2)\n",
        "tree.fit(X_train,y_train)\n",
        "\n",
        "# Visualize the tree\n",
        "graph= graphviz.Source(export_graphviz(tree,   \n",
        "                                       feature_names = data[\"feature_names\"], \n",
        "                                       class_names = data[\"target_names\"],\n",
        "                                       filled=True, rounded=True,  \n",
        "                                       special_characters=True,)) \n",
        "graph\n",
        "# Write you answer here: ...\n",
        "# from sklearn.metrics import mean_squared_error\n",
        "# pred = tree.predict(X_valid)\n",
        "# mse = mean_squared_error(y_valid,pred)\n",
        "# mse\n"
      ],
      "metadata": {
        "id": "Z2iwlEYR9xPo",
        "colab": {
          "base_uri": "https://localhost:8080/",
          "height": 380
        },
        "outputId": "da3c50a3-0070-42c9-cad9-7ba8a2aa9f10"
      },
      "execution_count": 8,
      "outputs": [
        {
          "output_type": "execute_result",
          "data": {
            "text/plain": [
              "<graphviz.files.Source at 0x7f42ebacb750>"
            ],
            "image/svg+xml": "<?xml version=\"1.0\" encoding=\"UTF-8\" standalone=\"no\"?>\n<!DOCTYPE svg PUBLIC \"-//W3C//DTD SVG 1.1//EN\"\n \"http://www.w3.org/Graphics/SVG/1.1/DTD/svg11.dtd\">\n<!-- Generated by graphviz version 2.40.1 (20161225.0304)\n -->\n<!-- Title: Tree Pages: 1 -->\n<svg width=\"706pt\" height=\"269pt\"\n viewBox=\"0.00 0.00 706.00 269.00\" xmlns=\"http://www.w3.org/2000/svg\" xmlns:xlink=\"http://www.w3.org/1999/xlink\">\n<g id=\"graph0\" class=\"graph\" transform=\"scale(1 1) rotate(0) translate(4 265)\">\n<title>Tree</title>\n<polygon fill=\"#ffffff\" stroke=\"transparent\" points=\"-4,4 -4,-265 702,-265 702,4 -4,4\"/>\n<!-- 0 -->\n<g id=\"node1\" class=\"node\">\n<title>0</title>\n<path fill=\"#f8dfcd\" stroke=\"#000000\" d=\"M417,-261C417,-261 280,-261 280,-261 274,-261 268,-255 268,-249 268,-249 268,-205 268,-205 268,-199 274,-193 280,-193 280,-193 417,-193 417,-193 423,-193 429,-199 429,-205 429,-205 429,-249 429,-249 429,-255 423,-261 417,-261\"/>\n<text text-anchor=\"start\" x=\"298.5\" y=\"-245.8\" font-family=\"Helvetica,sans-Serif\" font-size=\"14.00\" fill=\"#000000\">MedInc ≤ 5.029</text>\n<text text-anchor=\"start\" x=\"276\" y=\"-230.8\" font-family=\"Helvetica,sans-Serif\" font-size=\"14.00\" fill=\"#000000\">squared_error = 1.338</text>\n<text text-anchor=\"start\" x=\"292.5\" y=\"-215.8\" font-family=\"Helvetica,sans-Serif\" font-size=\"14.00\" fill=\"#000000\">samples = 16512</text>\n<text text-anchor=\"start\" x=\"304.5\" y=\"-200.8\" font-family=\"Helvetica,sans-Serif\" font-size=\"14.00\" fill=\"#000000\">value = 2.072</text>\n</g>\n<!-- 1 -->\n<g id=\"node2\" class=\"node\">\n<title>1</title>\n<path fill=\"#fceee5\" stroke=\"#000000\" d=\"M328,-157C328,-157 191,-157 191,-157 185,-157 179,-151 179,-145 179,-145 179,-101 179,-101 179,-95 185,-89 191,-89 191,-89 328,-89 328,-89 334,-89 340,-95 340,-101 340,-101 340,-145 340,-145 340,-151 334,-157 328,-157\"/>\n<text text-anchor=\"start\" x=\"209.5\" y=\"-141.8\" font-family=\"Helvetica,sans-Serif\" font-size=\"14.00\" fill=\"#000000\">MedInc ≤ 3.074</text>\n<text text-anchor=\"start\" x=\"187\" y=\"-126.8\" font-family=\"Helvetica,sans-Serif\" font-size=\"14.00\" fill=\"#000000\">squared_error = 0.833</text>\n<text text-anchor=\"start\" x=\"203.5\" y=\"-111.8\" font-family=\"Helvetica,sans-Serif\" font-size=\"14.00\" fill=\"#000000\">samples = 12979</text>\n<text text-anchor=\"start\" x=\"215.5\" y=\"-96.8\" font-family=\"Helvetica,sans-Serif\" font-size=\"14.00\" fill=\"#000000\">value = 1.733</text>\n</g>\n<!-- 0&#45;&gt;1 -->\n<g id=\"edge1\" class=\"edge\">\n<title>0&#45;&gt;1</title>\n<path fill=\"none\" stroke=\"#000000\" d=\"M319.3581,-192.9465C311.6745,-183.968 303.2947,-174.1758 295.3041,-164.8385\"/>\n<polygon fill=\"#000000\" stroke=\"#000000\" points=\"297.8685,-162.4521 288.7074,-157.13 292.5501,-167.0034 297.8685,-162.4521\"/>\n<text text-anchor=\"middle\" x=\"286.7702\" y=\"-178.3548\" font-family=\"Helvetica,sans-Serif\" font-size=\"14.00\" fill=\"#000000\">True</text>\n</g>\n<!-- 4 -->\n<g id=\"node5\" class=\"node\">\n<title>4</title>\n<path fill=\"#eda977\" stroke=\"#000000\" d=\"M507,-157C507,-157 370,-157 370,-157 364,-157 358,-151 358,-145 358,-145 358,-101 358,-101 358,-95 364,-89 370,-89 370,-89 507,-89 507,-89 513,-89 519,-95 519,-101 519,-101 519,-145 519,-145 519,-151 513,-157 507,-157\"/>\n<text text-anchor=\"start\" x=\"392.5\" y=\"-141.8\" font-family=\"Helvetica,sans-Serif\" font-size=\"14.00\" fill=\"#000000\">MedInc ≤ 6.82</text>\n<text text-anchor=\"start\" x=\"366\" y=\"-126.8\" font-family=\"Helvetica,sans-Serif\" font-size=\"14.00\" fill=\"#000000\">squared_error = 1.218</text>\n<text text-anchor=\"start\" x=\"386.5\" y=\"-111.8\" font-family=\"Helvetica,sans-Serif\" font-size=\"14.00\" fill=\"#000000\">samples = 3533</text>\n<text text-anchor=\"start\" x=\"394.5\" y=\"-96.8\" font-family=\"Helvetica,sans-Serif\" font-size=\"14.00\" fill=\"#000000\">value = 3.319</text>\n</g>\n<!-- 0&#45;&gt;4 -->\n<g id=\"edge4\" class=\"edge\">\n<title>0&#45;&gt;4</title>\n<path fill=\"none\" stroke=\"#000000\" d=\"M377.9694,-192.9465C385.7393,-183.968 394.2132,-174.1758 402.2936,-164.8385\"/>\n<polygon fill=\"#000000\" stroke=\"#000000\" points=\"405.0672,-166.982 408.9644,-157.13 399.774,-162.4014 405.0672,-166.982\"/>\n<text text-anchor=\"middle\" x=\"410.7639\" y=\"-178.3652\" font-family=\"Helvetica,sans-Serif\" font-size=\"14.00\" fill=\"#000000\">False</text>\n</g>\n<!-- 2 -->\n<g id=\"node3\" class=\"node\">\n<title>2</title>\n<path fill=\"#ffffff\" stroke=\"#000000\" d=\"M149,-53C149,-53 12,-53 12,-53 6,-53 0,-47 0,-41 0,-41 0,-12 0,-12 0,-6 6,0 12,0 12,0 149,0 149,0 155,0 161,-6 161,-12 161,-12 161,-41 161,-41 161,-47 155,-53 149,-53\"/>\n<text text-anchor=\"start\" x=\"8\" y=\"-37.8\" font-family=\"Helvetica,sans-Serif\" font-size=\"14.00\" fill=\"#000000\">squared_error = 0.545</text>\n<text text-anchor=\"start\" x=\"28.5\" y=\"-22.8\" font-family=\"Helvetica,sans-Serif\" font-size=\"14.00\" fill=\"#000000\">samples = 6272</text>\n<text text-anchor=\"start\" x=\"40.5\" y=\"-7.8\" font-family=\"Helvetica,sans-Serif\" font-size=\"14.00\" fill=\"#000000\">value = 1.35</text>\n</g>\n<!-- 1&#45;&gt;2 -->\n<g id=\"edge2\" class=\"edge\">\n<title>1&#45;&gt;2</title>\n<path fill=\"none\" stroke=\"#000000\" d=\"M196.3913,-88.9777C177.6208,-78.8584 157.1494,-67.8222 138.7063,-57.8794\"/>\n<polygon fill=\"#000000\" stroke=\"#000000\" points=\"140.295,-54.7597 129.8317,-53.095 136.9732,-60.9213 140.295,-54.7597\"/>\n</g>\n<!-- 3 -->\n<g id=\"node4\" class=\"node\">\n<title>3</title>\n<path fill=\"#f8decc\" stroke=\"#000000\" d=\"M328,-53C328,-53 191,-53 191,-53 185,-53 179,-47 179,-41 179,-41 179,-12 179,-12 179,-6 185,0 191,0 191,0 328,0 328,0 334,0 340,-6 340,-12 340,-12 340,-41 340,-41 340,-47 334,-53 328,-53\"/>\n<text text-anchor=\"start\" x=\"187\" y=\"-37.8\" font-family=\"Helvetica,sans-Serif\" font-size=\"14.00\" fill=\"#000000\">squared_error = 0.836</text>\n<text text-anchor=\"start\" x=\"207.5\" y=\"-22.8\" font-family=\"Helvetica,sans-Serif\" font-size=\"14.00\" fill=\"#000000\">samples = 6707</text>\n<text text-anchor=\"start\" x=\"215.5\" y=\"-7.8\" font-family=\"Helvetica,sans-Serif\" font-size=\"14.00\" fill=\"#000000\">value = 2.092</text>\n</g>\n<!-- 1&#45;&gt;3 -->\n<g id=\"edge3\" class=\"edge\">\n<title>1&#45;&gt;3</title>\n<path fill=\"none\" stroke=\"#000000\" d=\"M259.5,-88.9777C259.5,-80.7364 259.5,-71.887 259.5,-63.5153\"/>\n<polygon fill=\"#000000\" stroke=\"#000000\" points=\"263.0001,-63.2484 259.5,-53.2485 256.0001,-63.2485 263.0001,-63.2484\"/>\n</g>\n<!-- 5 -->\n<g id=\"node6\" class=\"node\">\n<title>5</title>\n<path fill=\"#f1ba93\" stroke=\"#000000\" d=\"M507,-53C507,-53 370,-53 370,-53 364,-53 358,-47 358,-41 358,-41 358,-12 358,-12 358,-6 364,0 370,0 370,0 507,0 507,0 513,0 519,-6 519,-12 519,-12 519,-41 519,-41 519,-47 513,-53 507,-53\"/>\n<text text-anchor=\"start\" x=\"366\" y=\"-37.8\" font-family=\"Helvetica,sans-Serif\" font-size=\"14.00\" fill=\"#000000\">squared_error = 0.891</text>\n<text text-anchor=\"start\" x=\"386.5\" y=\"-22.8\" font-family=\"Helvetica,sans-Serif\" font-size=\"14.00\" fill=\"#000000\">samples = 2453</text>\n<text text-anchor=\"start\" x=\"394.5\" y=\"-7.8\" font-family=\"Helvetica,sans-Serif\" font-size=\"14.00\" fill=\"#000000\">value = 2.921</text>\n</g>\n<!-- 4&#45;&gt;5 -->\n<g id=\"edge5\" class=\"edge\">\n<title>4&#45;&gt;5</title>\n<path fill=\"none\" stroke=\"#000000\" d=\"M438.5,-88.9777C438.5,-80.7364 438.5,-71.887 438.5,-63.5153\"/>\n<polygon fill=\"#000000\" stroke=\"#000000\" points=\"442.0001,-63.2484 438.5,-53.2485 435.0001,-63.2485 442.0001,-63.2484\"/>\n</g>\n<!-- 6 -->\n<g id=\"node7\" class=\"node\">\n<title>6</title>\n<path fill=\"#e58139\" stroke=\"#000000\" d=\"M686,-53C686,-53 549,-53 549,-53 543,-53 537,-47 537,-41 537,-41 537,-12 537,-12 537,-6 543,0 549,0 549,0 686,0 686,0 692,0 698,-6 698,-12 698,-12 698,-41 698,-41 698,-47 692,-53 686,-53\"/>\n<text text-anchor=\"start\" x=\"545\" y=\"-37.8\" font-family=\"Helvetica,sans-Serif\" font-size=\"14.00\" fill=\"#000000\">squared_error = 0.787</text>\n<text text-anchor=\"start\" x=\"565.5\" y=\"-22.8\" font-family=\"Helvetica,sans-Serif\" font-size=\"14.00\" fill=\"#000000\">samples = 1080</text>\n<text text-anchor=\"start\" x=\"573.5\" y=\"-7.8\" font-family=\"Helvetica,sans-Serif\" font-size=\"14.00\" fill=\"#000000\">value = 4.222</text>\n</g>\n<!-- 4&#45;&gt;6 -->\n<g id=\"edge6\" class=\"edge\">\n<title>4&#45;&gt;6</title>\n<path fill=\"none\" stroke=\"#000000\" d=\"M501.6087,-88.9777C520.3792,-78.8584 540.8506,-67.8222 559.2937,-57.8794\"/>\n<polygon fill=\"#000000\" stroke=\"#000000\" points=\"561.0268,-60.9213 568.1683,-53.095 557.705,-54.7597 561.0268,-60.9213\"/>\n</g>\n</g>\n</svg>\n"
          },
          "metadata": {},
          "execution_count": 8
        }
      ]
    },
    {
      "cell_type": "markdown",
      "source": [
        "## Task 3 (2pt)\n",
        "* Train a decision tree with `max_depth=3`.\n",
        "* Don't forget `random_state=0`\n",
        "* Print the mean square error on the validation set.\n",
        "* What is the mean square error you just calculate.\n",
        " Write you answer in the comment below the code.\n"
      ],
      "metadata": {
        "id": "VKKSFfc1BZNT"
      }
    },
    {
      "cell_type": "code",
      "source": [
        "\n",
        "# Train the model\n",
        "from sklearn.metrics import mean_squared_error\n",
        "tree = DecisionTreeRegressor(random_state=0, max_depth=3)\n",
        "tree.fit(X_train,y_train)\n",
        "pred = tree.predict(X_valid)\n",
        "\n",
        "# Print the mean squared error\n",
        "mse = mean_squared_error(y_valid,pred)\n",
        "print(mse)\n",
        "\n",
        "# What's the mean squared error you just calculate: \n",
        "print(\"The mean squared error is: \",mse)"
      ],
      "metadata": {
        "id": "7XIzWfHXAdaP",
        "colab": {
          "base_uri": "https://localhost:8080/"
        },
        "outputId": "2db1fbf9-2cfb-467b-956d-7680e9ab4ea3"
      },
      "execution_count": 9,
      "outputs": [
        {
          "output_type": "stream",
          "name": "stdout",
          "text": [
            "0.6533119456700849\n",
            "The mean squared error is:  0.6533119456700849\n"
          ]
        }
      ]
    },
    {
      "cell_type": "markdown",
      "source": [
        "## Task 4 (2pt)\n",
        "Tune the `max_depth` parameter of the model\n",
        "* Try different values for `max_depth`: `[5, 6, 7, 8, 9, 10, 11, 12]`\n",
        "* Don't forget `random_state=0`\n",
        "* Print out the mean square error for each value of `max_depth`\n",
        "* What is the best value for `max_depth`? Write you answer in the comment below the code."
      ],
      "metadata": {
        "id": "vUpkklmCDpkB"
      }
    },
    {
      "cell_type": "code",
      "source": [
        "# Your code here\n",
        "highest_mse = 1\n",
        "for max_d in range(5,13):\n",
        "                        tree = tree = DecisionTreeRegressor(random_state=0, max_depth=max_d)\n",
        "                        tree.fit(X_train,y_train)\n",
        "                        pred = tree.predict(X_valid)\n",
        "                        \n",
        "# What's the mean squared error you just calculate: \n",
        "                        mse = mean_squared_error(y_valid,pred)\n",
        "                        print('The Training Accuracy for max_depth %s'%(max_d) + \" MSE is \" ,mse)\n"
      ],
      "metadata": {
        "id": "aWy1Jy5dDR83",
        "colab": {
          "base_uri": "https://localhost:8080/"
        },
        "outputId": "46a6a483-c2c5-4fa1-9703-80379c9f0bb4"
      },
      "execution_count": 10,
      "outputs": [
        {
          "output_type": "stream",
          "name": "stdout",
          "text": [
            "The Training Accuracy for max_depth 5 MSE is  0.5401962207714344\n",
            "The Training Accuracy for max_depth 6 MSE is  0.4984109265539033\n",
            "The Training Accuracy for max_depth 7 MSE is  0.4596987909870867\n",
            "The Training Accuracy for max_depth 8 MSE is  0.44604575226916726\n",
            "The Training Accuracy for max_depth 9 MSE is  0.4313636207268005\n",
            "The Training Accuracy for max_depth 10 MSE is  0.4470239650247865\n",
            "The Training Accuracy for max_depth 11 MSE is  0.444291361570811\n",
            "The Training Accuracy for max_depth 12 MSE is  0.45049079652055624\n"
          ]
        }
      ]
    },
    {
      "cell_type": "markdown",
      "source": [
        "Using grid search to get best max depth"
      ],
      "metadata": {
        "id": "x98xa1Sxj_ne"
      }
    },
    {
      "cell_type": "code",
      "source": [
        "from sklearn.model_selection import GridSearchCV\n",
        "parameters = {\n",
        "               'max_depth':[5, 6, 7,9, 8, 10, 11, 12]\n",
        "             }\n",
        "# Instantiate the grid search model\n",
        "grid_search = GridSearchCV(estimator = tree, param_grid = parameters, cv=3,verbose= 2)\n",
        "grid_search.fit(X_train, y_train)\n",
        "print(\"The best value is \",grid_search.best_params_)\n",
        "print(f'Train Accuracy - : {grid_search.score(X_train,y_train):.3f}')\n",
        "print(f'Test Accuracy - : {grid_search.score(X_valid,y_valid):.3f}')\n",
        "              "
      ],
      "metadata": {
        "colab": {
          "base_uri": "https://localhost:8080/"
        },
        "id": "qGUETa49iOdR",
        "outputId": "9e82bd84-f097-4b98-e594-ceea435e98ac"
      },
      "execution_count": 17,
      "outputs": [
        {
          "output_type": "stream",
          "name": "stdout",
          "text": [
            "Fitting 3 folds for each of 8 candidates, totalling 24 fits\n",
            "[CV] END ........................................max_depth=5; total time=   0.1s\n",
            "[CV] END ........................................max_depth=5; total time=   0.1s\n",
            "[CV] END ........................................max_depth=5; total time=   0.0s\n",
            "[CV] END ........................................max_depth=6; total time=   0.1s\n",
            "[CV] END ........................................max_depth=6; total time=   0.1s\n",
            "[CV] END ........................................max_depth=6; total time=   0.1s\n",
            "[CV] END ........................................max_depth=7; total time=   0.1s\n",
            "[CV] END ........................................max_depth=7; total time=   0.1s\n",
            "[CV] END ........................................max_depth=7; total time=   0.1s\n",
            "[CV] END ........................................max_depth=9; total time=   0.1s\n",
            "[CV] END ........................................max_depth=9; total time=   0.1s\n",
            "[CV] END ........................................max_depth=9; total time=   0.1s\n",
            "[CV] END ........................................max_depth=8; total time=   0.1s\n",
            "[CV] END ........................................max_depth=8; total time=   0.1s\n",
            "[CV] END ........................................max_depth=8; total time=   0.1s\n",
            "[CV] END .......................................max_depth=10; total time=   0.1s\n",
            "[CV] END .......................................max_depth=10; total time=   0.1s\n",
            "[CV] END .......................................max_depth=10; total time=   0.1s\n",
            "[CV] END .......................................max_depth=11; total time=   0.1s\n",
            "[CV] END .......................................max_depth=11; total time=   0.1s\n",
            "[CV] END .......................................max_depth=11; total time=   0.1s\n",
            "[CV] END .......................................max_depth=12; total time=   0.1s\n",
            "[CV] END .......................................max_depth=12; total time=   0.1s\n",
            "[CV] END .......................................max_depth=12; total time=   0.1s\n",
            "The best value is  {'max_depth': 9}\n",
            "Train Accuracy - : 0.794\n",
            "Test Accuracy - : 0.669\n"
          ]
        }
      ]
    },
    {
      "cell_type": "markdown",
      "source": [
        "## Task 5 (1pt)\n",
        "Let's switch to random forest\n",
        "\n",
        "Train a random forest model with\n",
        "* n_estimators=20\n",
        "* random_state=0\n",
        "\n",
        "What is the mean square error on the validation set? Write you answer in the comment below the code"
      ],
      "metadata": {
        "id": "QYKcXabRF51e"
      }
    },
    {
      "cell_type": "code",
      "source": [
        "from sklearn.ensemble import RandomForestRegressor"
      ],
      "metadata": {
        "id": "IzvkkR8jEZWZ"
      },
      "execution_count": 12,
      "outputs": []
    },
    {
      "cell_type": "code",
      "source": [
        "\n",
        "# Your code here\n",
        "model =RandomForestRegressor(n_estimators=20,random_state=0)\n",
        "model.fit(X_train,y_train)\n",
        "pred = model.predict(X_valid)\n",
        "\n",
        "#The mean square error on the validation set\n",
        "mse = mean_squared_error(y_valid,pred)\n",
        "print(\"Mean Square Error on the validation set is \",mse)"
      ],
      "metadata": {
        "id": "BgAZx5dhGxfI",
        "colab": {
          "base_uri": "https://localhost:8080/"
        },
        "outputId": "d08193dc-1b9d-418a-b4b2-019bfc6967e6"
      },
      "execution_count": 13,
      "outputs": [
        {
          "output_type": "stream",
          "name": "stdout",
          "text": [
            "Mean Square Error on the validation set is  0.26946775214546204\n"
          ]
        }
      ]
    },
    {
      "cell_type": "markdown",
      "source": [
        "## Task 6 (2pt)\n",
        "Tune different hyperparameter of random forest\n",
        "* `random_state=0`\n",
        "* Try different values for `max_features`: `[0.5, 'sqrt', 'log2']`\n",
        "* For each of these values for `max_features`, try different values of `n_estimators` from 10 to 100 (with step size 10): i.e `[10, 20, 30, ...]` \n",
        "* Optionally set `n_jobs=-1` to train faster"
      ],
      "metadata": {
        "id": "4VX2PLb2H1rL"
      }
    },
    {
      "cell_type": "code",
      "source": [
        "from sklearn.model_selection import RandomizedSearchCV\n",
        "parameters={\n",
        "            \"max_depth\" : [1,3,5,7,9,11,12],\n",
        "            'n_estimators': np.arange(10,110,10),\n",
        "           \"max_features\":[\"auto\",\"sqrt\",'log2']}\n",
        "\n",
        "rf = RandomForestRegressor()\n",
        "rf_random = RandomizedSearchCV(estimator = rf,random_state=0, n_jobs = -1,cv= 5,verbose = 2, param_distributions = parameters)\n",
        "rf_random.fit(X_train, y_train) \n",
        "print(\"The best parameters are \",rf_random.best_params_)\n",
        "\n"
      ],
      "metadata": {
        "colab": {
          "base_uri": "https://localhost:8080/"
        },
        "id": "DpE-NsDZaY3R",
        "outputId": "7af6cff6-a6fe-4e98-d520-23ad80528cde"
      },
      "execution_count": 14,
      "outputs": [
        {
          "output_type": "stream",
          "name": "stdout",
          "text": [
            "Fitting 5 folds for each of 10 candidates, totalling 50 fits\n",
            "The best parameters are  {'n_estimators': 90, 'max_features': 'auto', 'max_depth': 12}\n"
          ]
        }
      ]
    },
    {
      "cell_type": "markdown",
      "source": [
        "## Task 7 (1pt)\n",
        "\n",
        "Extract feature importance of the model\n",
        "Train a random forest model with:\n",
        "* `n_estimators=10`\n",
        "* `max_dept=15`\n",
        "* `random_state=0`\n",
        "\n",
        "Get the feature importance attribute of the model. You can use the `feature_importances_` attibute \n",
        "\n",
        "What is the most important feature? write your answer in a comment in the code cell below."
      ],
      "metadata": {
        "id": "-M5fPzEvLfRL"
      }
    },
    {
      "cell_type": "code",
      "source": [
        "# Train your model\n",
        "rf = RandomForestRegressor(n_estimators=10,max_depth=15,random_state=0) \n",
        "rf.fit(X_train,y_train)\n",
        "# Get feature importance\n",
        "feature_importances = rf.feature_importances_"
      ],
      "metadata": {
        "id": "MLD-XuzuKOBS"
      },
      "execution_count": 15,
      "outputs": []
    },
    {
      "cell_type": "code",
      "source": [
        "df_importances = pd.DataFrame()\n",
        "df_importances['feature'] = feature_names\n",
        "df_importances['importance'] = feature_importances\n",
        "df_importances.sort_values(by='importance', inplace=True)\n",
        "\n",
        "plt.barh(range(df_importances.shape[0]), df_importances.importance)\n",
        "plt.yticks(range(df_importances.shape[0]), df_importances.feature)\n",
        "\n",
        "plt.show()\n",
        "\n",
        "#The most important feature: \n"
      ],
      "metadata": {
        "id": "sE1h5YOgMKQM",
        "colab": {
          "base_uri": "https://localhost:8080/",
          "height": 265
        },
        "outputId": "8e44b56b-4d97-429f-fbed-3b3927d63fe1"
      },
      "execution_count": 16,
      "outputs": [
        {
          "output_type": "display_data",
          "data": {
            "text/plain": [
              "<Figure size 432x288 with 1 Axes>"
            ],
            "image/png": "[encoded data removed]"
          },
          "metadata": {
            "needs_background": "light"
          }
        }
      ]
    },
    {
      "cell_type": "code",
      "source": [],
      "metadata": {
        "id": "aLPbBYD7NYt0"
      },
      "execution_count": 16,
      "outputs": []
    }
  ]
}