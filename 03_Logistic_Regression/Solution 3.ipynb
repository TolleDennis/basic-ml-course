{
  "cells": [
    {
      "cell_type": "markdown",
      "metadata": {
        "id": "view-in-github",
        "colab_type": "text"
      },
      "source": [
        "<a href=\"https://colab.research.google.com/github/TolleDennis/basic-ml-course/blob/master/03_Logistic_Regression/Solution%203.ipynb\" target=\"_parent\"><img src=\"https://colab.research.google.com/assets/colab-badge.svg\" alt=\"Open In Colab\"/></a>"
      ]
    },
    {
      "cell_type": "markdown",
      "metadata": {
        "id": "BVZK027eQ6DX"
      },
      "source": [
        "# Homework 3: Logistics Regression\n",
        "Implement everywhere that has  `...`"
      ]
    },
    {
      "cell_type": "code",
      "execution_count": 88,
      "metadata": {
        "id": "3N4wa9IdQ6Da"
      },
      "outputs": [],
      "source": [
        "import numpy as np\n",
        "import pandas as pd\n",
        "import sklearn.datasets"
      ]
    },
    {
      "cell_type": "markdown",
      "metadata": {
        "id": "tn1OYHFWQ6Dd"
      },
      "source": [
        "### Load dataset"
      ]
    },
    {
      "cell_type": "code",
      "execution_count": 97,
      "metadata": {
        "colab": {
          "base_uri": "https://localhost:8080/"
        },
        "id": "HzjEepqyQ6De",
        "outputId": "fd6fc94c-7bbd-4094-ce9e-561aa1a7b33b"
      },
      "outputs": [
        {
          "output_type": "execute_result",
          "data": {
            "text/plain": [
              "array([0, 0, 0, 0, 0, 0, 0, 0, 0, 0, 0, 0, 0, 0, 0, 0, 0, 0, 0, 0, 0, 0,\n",
              "       0, 0, 0, 0, 0, 0, 0, 0, 0, 0, 0, 0, 0, 0, 0, 0, 0, 0, 0, 0, 0, 0,\n",
              "       0, 0, 0, 0, 0, 0, 1, 1, 1, 1, 1, 1, 1, 1, 1, 1, 1, 1, 1, 1, 1, 1,\n",
              "       1, 1, 1, 1, 1, 1, 1, 1, 1, 1, 1, 1, 1, 1, 1, 1, 1, 1, 1, 1, 1, 1,\n",
              "       1, 1, 1, 1, 1, 1, 1, 1, 1, 1, 1, 1, 2, 2, 2, 2, 2, 2, 2, 2, 2, 2,\n",
              "       2, 2, 2, 2, 2, 2, 2, 2, 2, 2, 2, 2, 2, 2, 2, 2, 2, 2, 2, 2, 2, 2,\n",
              "       2, 2, 2, 2, 2, 2, 2, 2, 2, 2, 2, 2, 2, 2, 2, 2, 2, 2])"
            ]
          },
          "metadata": {},
          "execution_count": 97
        }
      ],
      "source": [
        "import sklearn\n",
        "from sklearn.datasets import load_iris\n",
        "data = load_iris()\n",
        "X, Y = data.data, data.target\n",
        "Y"
      ]
    },
    {
      "cell_type": "markdown",
      "metadata": {
        "id": "bkRKLkY7Q6Df"
      },
      "source": [
        "### Task 1: (1pt)\n",
        "Choose only the last 2 classes (class 1 and 2) from the dataset. You may refer to the code from the lecture video.\n",
        "\n",
        "Some numpy resource that might be useful\n",
        "* Indexing in numpy: https://aman.ai/primers/numpy/#indexing\n",
        "* Boolean mask: https://aman.ai/primers/numpy/#boolean-array-indexing"
      ]
    },
    {
      "cell_type": "code",
      "execution_count": 106,
      "metadata": {
        "id": "OQ3wW253Q6Df"
      },
      "outputs": [],
      "source": [
        "# only classify class 1 vs. class 2\n",
        "# Your code here\n",
        "\n",
        "def class1_2(X,Y):\n",
        "  cond = Y < 2\n",
        "  X = X[cond]\n",
        "  Y = Y[cond]\n",
        "  return X,Y\n",
        "assert X.shape == (100, 4) #just to make sure\n"
      ]
    },
    {
      "cell_type": "code",
      "source": [
        "pd.DataFrame(X)"
      ],
      "metadata": {
        "colab": {
          "base_uri": "https://localhost:8080/",
          "height": 424
        },
        "id": "euyjAd0rSvDY",
        "outputId": "fb0ba742-e800-41c7-962d-a0067ef78c0d"
      },
      "execution_count": 107,
      "outputs": [
        {
          "output_type": "execute_result",
          "data": {
            "text/plain": [
              "      0    1    2    3\n",
              "0   5.1  3.5  1.4  0.2\n",
              "1   4.9  3.0  1.4  0.2\n",
              "2   4.7  3.2  1.3  0.2\n",
              "3   4.6  3.1  1.5  0.2\n",
              "4   5.0  3.6  1.4  0.2\n",
              "..  ...  ...  ...  ...\n",
              "95  5.7  3.0  4.2  1.2\n",
              "96  5.7  2.9  4.2  1.3\n",
              "97  6.2  2.9  4.3  1.3\n",
              "98  5.1  2.5  3.0  1.1\n",
              "99  5.7  2.8  4.1  1.3\n",
              "\n",
              "[100 rows x 4 columns]"
            ],
            "text/html": [
              "\n",
              "  <div id=\"df-68b0f071-4968-4af0-b7e7-84f865ed018c\">\n",
              "    <div class=\"colab-df-container\">\n",
              "      <div>\n",
              "<style scoped>\n",
              "    .dataframe tbody tr th:only-of-type {\n",
              "        vertical-align: middle;\n",
              "    }\n",
              "\n",
              "    .dataframe tbody tr th {\n",
              "        vertical-align: top;\n",
              "    }\n",
              "\n",
              "    .dataframe thead th {\n",
              "        text-align: right;\n",
              "    }\n",
              "</style>\n",
              "<table border=\"1\" class=\"dataframe\">\n",
              "  <thead>\n",
              "    <tr style=\"text-align: right;\">\n",
              "      <th></th>\n",
              "      <th>0</th>\n",
              "      <th>1</th>\n",
              "      <th>2</th>\n",
              "      <th>3</th>\n",
              "    </tr>\n",
              "  </thead>\n",
              "  <tbody>\n",
              "    <tr>\n",
              "      <th>0</th>\n",
              "      <td>5.1</td>\n",
              "      <td>3.5</td>\n",
              "      <td>1.4</td>\n",
              "      <td>0.2</td>\n",
              "    </tr>\n",
              "    <tr>\n",
              "      <th>1</th>\n",
              "      <td>4.9</td>\n",
              "      <td>3.0</td>\n",
              "      <td>1.4</td>\n",
              "      <td>0.2</td>\n",
              "    </tr>\n",
              "    <tr>\n",
              "      <th>2</th>\n",
              "      <td>4.7</td>\n",
              "      <td>3.2</td>\n",
              "      <td>1.3</td>\n",
              "      <td>0.2</td>\n",
              "    </tr>\n",
              "    <tr>\n",
              "      <th>3</th>\n",
              "      <td>4.6</td>\n",
              "      <td>3.1</td>\n",
              "      <td>1.5</td>\n",
              "      <td>0.2</td>\n",
              "    </tr>\n",
              "    <tr>\n",
              "      <th>4</th>\n",
              "      <td>5.0</td>\n",
              "      <td>3.6</td>\n",
              "      <td>1.4</td>\n",
              "      <td>0.2</td>\n",
              "    </tr>\n",
              "    <tr>\n",
              "      <th>...</th>\n",
              "      <td>...</td>\n",
              "      <td>...</td>\n",
              "      <td>...</td>\n",
              "      <td>...</td>\n",
              "    </tr>\n",
              "    <tr>\n",
              "      <th>95</th>\n",
              "      <td>5.7</td>\n",
              "      <td>3.0</td>\n",
              "      <td>4.2</td>\n",
              "      <td>1.2</td>\n",
              "    </tr>\n",
              "    <tr>\n",
              "      <th>96</th>\n",
              "      <td>5.7</td>\n",
              "      <td>2.9</td>\n",
              "      <td>4.2</td>\n",
              "      <td>1.3</td>\n",
              "    </tr>\n",
              "    <tr>\n",
              "      <th>97</th>\n",
              "      <td>6.2</td>\n",
              "      <td>2.9</td>\n",
              "      <td>4.3</td>\n",
              "      <td>1.3</td>\n",
              "    </tr>\n",
              "    <tr>\n",
              "      <th>98</th>\n",
              "      <td>5.1</td>\n",
              "      <td>2.5</td>\n",
              "      <td>3.0</td>\n",
              "      <td>1.1</td>\n",
              "    </tr>\n",
              "    <tr>\n",
              "      <th>99</th>\n",
              "      <td>5.7</td>\n",
              "      <td>2.8</td>\n",
              "      <td>4.1</td>\n",
              "      <td>1.3</td>\n",
              "    </tr>\n",
              "  </tbody>\n",
              "</table>\n",
              "<p>100 rows × 4 columns</p>\n",
              "</div>\n",
              "      <button class=\"colab-df-convert\" onclick=\"convertToInteractive('df-68b0f071-4968-4af0-b7e7-84f865ed018c')\"\n",
              "              title=\"Convert this dataframe to an interactive table.\"\n",
              "              style=\"display:none;\">\n",
              "        \n",
              "  <svg xmlns=\"http://www.w3.org/2000/svg\" height=\"24px\"viewBox=\"0 0 24 24\"\n",
              "       width=\"24px\">\n",
              "    <path d=\"M0 0h24v24H0V0z\" fill=\"none\"/>\n",
              "    <path d=\"M18.56 5.44l.94 2.06.94-2.06 2.06-.94-2.06-.94-.94-2.06-.94 2.06-2.06.94zm-11 1L8.5 8.5l.94-2.06 2.06-.94-2.06-.94L8.5 2.5l-.94 2.06-2.06.94zm10 10l.94 2.06.94-2.06 2.06-.94-2.06-.94-.94-2.06-.94 2.06-2.06.94z\"/><path d=\"M17.41 7.96l-1.37-1.37c-.4-.4-.92-.59-1.43-.59-.52 0-1.04.2-1.43.59L10.3 9.45l-7.72 7.72c-.78.78-.78 2.05 0 2.83L4 21.41c.39.39.9.59 1.41.59.51 0 1.02-.2 1.41-.59l7.78-7.78 2.81-2.81c.8-.78.8-2.07 0-2.86zM5.41 20L4 18.59l7.72-7.72 1.47 1.35L5.41 20z\"/>\n",
              "  </svg>\n",
              "      </button>\n",
              "      \n",
              "  <style>\n",
              "    .colab-df-container {\n",
              "      display:flex;\n",
              "      flex-wrap:wrap;\n",
              "      gap: 12px;\n",
              "    }\n",
              "\n",
              "    .colab-df-convert {\n",
              "      background-color: #E8F0FE;\n",
              "      border: none;\n",
              "      border-radius: 50%;\n",
              "      cursor: pointer;\n",
              "      display: none;\n",
              "      fill: #1967D2;\n",
              "      height: 32px;\n",
              "      padding: 0 0 0 0;\n",
              "      width: 32px;\n",
              "    }\n",
              "\n",
              "    .colab-df-convert:hover {\n",
              "      background-color: #E2EBFA;\n",
              "      box-shadow: 0px 1px 2px rgba(60, 64, 67, 0.3), 0px 1px 3px 1px rgba(60, 64, 67, 0.15);\n",
              "      fill: #174EA6;\n",
              "    }\n",
              "\n",
              "    [theme=dark] .colab-df-convert {\n",
              "      background-color: #3B4455;\n",
              "      fill: #D2E3FC;\n",
              "    }\n",
              "\n",
              "    [theme=dark] .colab-df-convert:hover {\n",
              "      background-color: #434B5C;\n",
              "      box-shadow: 0px 1px 3px 1px rgba(0, 0, 0, 0.15);\n",
              "      filter: drop-shadow(0px 1px 2px rgba(0, 0, 0, 0.3));\n",
              "      fill: #FFFFFF;\n",
              "    }\n",
              "  </style>\n",
              "\n",
              "      <script>\n",
              "        const buttonEl =\n",
              "          document.querySelector('#df-68b0f071-4968-4af0-b7e7-84f865ed018c button.colab-df-convert');\n",
              "        buttonEl.style.display =\n",
              "          google.colab.kernel.accessAllowed ? 'block' : 'none';\n",
              "\n",
              "        async function convertToInteractive(key) {\n",
              "          const element = document.querySelector('#df-68b0f071-4968-4af0-b7e7-84f865ed018c');\n",
              "          const dataTable =\n",
              "            await google.colab.kernel.invokeFunction('convertToInteractive',\n",
              "                                                     [key], {});\n",
              "          if (!dataTable) return;\n",
              "\n",
              "          const docLinkHtml = 'Like what you see? Visit the ' +\n",
              "            '<a target=\"_blank\" href=https://colab.research.google.com/notebooks/data_table.ipynb>data table notebook</a>'\n",
              "            + ' to learn more about interactive tables.';\n",
              "          element.innerHTML = '';\n",
              "          dataTable['output_type'] = 'display_data';\n",
              "          await google.colab.output.renderOutput(dataTable, element);\n",
              "          const docLink = document.createElement('div');\n",
              "          docLink.innerHTML = docLinkHtml;\n",
              "          element.appendChild(docLink);\n",
              "        }\n",
              "      </script>\n",
              "    </div>\n",
              "  </div>\n",
              "  "
            ]
          },
          "metadata": {},
          "execution_count": 107
        }
      ]
    },
    {
      "cell_type": "markdown",
      "metadata": {
        "id": "9XxfcqsdQ6Dg"
      },
      "source": [
        "### Task 2: Data normalization (1pt)\n",
        "Implement z-score normalization.\n",
        "\n",
        "Remember: normalization is done per feature, not all at once. So you need to calculate the mean and standard deviation for each feature seperately."
      ]
    },
    {
      "cell_type": "code",
      "execution_count": 108,
      "metadata": {
        "id": "LLWh0TY5Q6Dg"
      },
      "outputs": [],
      "source": [
        "# Write your code here. \n",
        "x_means = X.mean()\n",
        "x_stdevs = X.std()\n",
        "X = (X - x_means) / x_stdevs\n"
      ]
    },
    {
      "cell_type": "markdown",
      "metadata": {
        "id": "Px6RgYyzQ6Dh"
      },
      "source": [
        "### Task 3: Construct the design matrix (1pt)\n",
        "We need to add an extra column of 1 that represents the bias/intercept term\n",
        "\n",
        "\n",
        "\\begin{bmatrix}\n",
        "1 & x_{11} & x_{12} & \\dots\\\\\n",
        "1 & x_{21} & x_{22} & \\dots\\\\\n",
        "\\vdots  & \\vdots &\\vdots & \\vdots\\\\\n",
        "1 & x_{n1} & x_{n2} & \\dots\\\\\n",
        "\\end{bmatrix}\n",
        "\n",
        "Helpful function: https://numpy.org/doc/stable/reference/generated/numpy.hstack.html"
      ]
    },
    {
      "cell_type": "code",
      "execution_count": 109,
      "metadata": {
        "id": "ApQ1ccjFQ6Di",
        "colab": {
          "base_uri": "https://localhost:8080/"
        },
        "outputId": "78a552ae-cf48-4337-f08f-6a2eff0d6602"
      },
      "outputs": [
        {
          "output_type": "stream",
          "name": "stdout",
          "text": [
            "[[ 1.          1.09132172  0.23778891 -0.88247291 -1.52262251]\n",
            " [ 1.          0.98463012 -0.0289401  -0.88247291 -1.52262251]\n",
            " [ 1.          0.87793851  0.0777515  -0.93581871 -1.52262251]\n",
            " [ 1.          0.82459271  0.0244057  -0.82912711 -1.52262251]\n",
            " [ 1.          1.03797592  0.29113471 -0.88247291 -1.52262251]\n",
            " [ 1.          1.25135912  0.45117211 -0.72243551 -1.41593091]\n",
            " [ 1.          0.82459271  0.18444311 -0.88247291 -1.46927671]\n",
            " [ 1.          1.03797592  0.18444311 -0.82912711 -1.52262251]\n",
            " [ 1.          0.71790111 -0.0822859  -0.88247291 -1.52262251]\n",
            " [ 1.          0.98463012  0.0244057  -0.82912711 -1.57596832]\n",
            " [ 1.          1.25135912  0.34448051 -0.82912711 -1.52262251]\n",
            " [ 1.          0.93128431  0.18444311 -0.77578131 -1.52262251]\n",
            " [ 1.          0.93128431 -0.0289401  -0.88247291 -1.57596832]\n",
            " [ 1.          0.66455531 -0.0289401  -1.04251031 -1.57596832]\n",
            " [ 1.          1.46474232  0.50451791 -0.98916451 -1.52262251]\n",
            " [ 1.          1.41139652  0.71790111 -0.82912711 -1.41593091]\n",
            " [ 1.          1.25135912  0.45117211 -0.93581871 -1.41593091]\n",
            " [ 1.          1.09132172  0.23778891 -0.88247291 -1.46927671]\n",
            " [ 1.          1.41139652  0.39782631 -0.72243551 -1.46927671]\n",
            " [ 1.          1.09132172  0.39782631 -0.82912711 -1.46927671]\n",
            " [ 1.          1.25135912  0.18444311 -0.72243551 -1.52262251]\n",
            " [ 1.          1.09132172  0.34448051 -0.82912711 -1.41593091]\n",
            " [ 1.          0.82459271  0.29113471 -1.09585611 -1.52262251]\n",
            " [ 1.          1.09132172  0.13109731 -0.72243551 -1.36258511]\n",
            " [ 1.          0.93128431  0.18444311 -0.6157439  -1.52262251]\n",
            " [ 1.          1.03797592 -0.0289401  -0.77578131 -1.52262251]\n",
            " [ 1.          1.03797592  0.18444311 -0.77578131 -1.41593091]\n",
            " [ 1.          1.14466752  0.23778891 -0.82912711 -1.52262251]\n",
            " [ 1.          1.14466752  0.18444311 -0.88247291 -1.52262251]\n",
            " [ 1.          0.87793851  0.0777515  -0.77578131 -1.52262251]\n",
            " [ 1.          0.93128431  0.0244057  -0.77578131 -1.52262251]\n",
            " [ 1.          1.25135912  0.18444311 -0.82912711 -1.41593091]\n",
            " [ 1.          1.14466752  0.55786371 -0.82912711 -1.57596832]\n",
            " [ 1.          1.30470492  0.61120951 -0.88247291 -1.52262251]\n",
            " [ 1.          0.98463012  0.0244057  -0.82912711 -1.52262251]\n",
            " [ 1.          1.03797592  0.0777515  -0.98916451 -1.52262251]\n",
            " [ 1.          1.30470492  0.23778891 -0.93581871 -1.52262251]\n",
            " [ 1.          0.98463012  0.29113471 -0.88247291 -1.57596832]\n",
            " [ 1.          0.71790111 -0.0289401  -0.93581871 -1.52262251]\n",
            " [ 1.          1.09132172  0.18444311 -0.82912711 -1.52262251]\n",
            " [ 1.          1.03797592  0.23778891 -0.93581871 -1.46927671]\n",
            " [ 1.          0.77124691 -0.4023607  -0.93581871 -1.46927671]\n",
            " [ 1.          0.71790111  0.0777515  -0.93581871 -1.52262251]\n",
            " [ 1.          1.03797592  0.23778891 -0.77578131 -1.30923931]\n",
            " [ 1.          1.09132172  0.39782631 -0.6157439  -1.41593091]\n",
            " [ 1.          0.93128431 -0.0289401  -0.88247291 -1.46927671]\n",
            " [ 1.          1.09132172  0.39782631 -0.77578131 -1.52262251]\n",
            " [ 1.          0.82459271  0.0777515  -0.88247291 -1.52262251]\n",
            " [ 1.          1.19801332  0.34448051 -0.82912711 -1.52262251]\n",
            " [ 1.          1.03797592  0.13109731 -0.88247291 -1.52262251]\n",
            " [ 1.          2.10489193  0.0777515   0.87793851 -0.88247291]\n",
            " [ 1.          1.78481712  0.0777515   0.77124691 -0.82912711]\n",
            " [ 1.          2.05154613  0.0244057   0.98463012 -0.82912711]\n",
            " [ 1.          1.30470492 -0.4023607   0.50451791 -0.93581871]\n",
            " [ 1.          1.83816293 -0.1356317   0.82459271 -0.82912711]\n",
            " [ 1.          1.41139652 -0.1356317   0.77124691 -0.93581871]\n",
            " [ 1.          1.73147132  0.13109731  0.87793851 -0.77578131]\n",
            " [ 1.          0.98463012 -0.3490149   0.13109731 -1.09585611]\n",
            " [ 1.          1.89150873 -0.0822859   0.82459271 -0.93581871]\n",
            " [ 1.          1.14466752 -0.1889775   0.45117211 -0.88247291]\n",
            " [ 1.          1.03797592 -0.5623981   0.23778891 -1.09585611]\n",
            " [ 1.          1.51808812 -0.0289401   0.61120951 -0.82912711]\n",
            " [ 1.          1.57143392 -0.4557065   0.50451791 -1.09585611]\n",
            " [ 1.          1.62477972 -0.0822859   0.87793851 -0.88247291]\n",
            " [ 1.          1.35805072 -0.0822859   0.29113471 -0.93581871]\n",
            " [ 1.          1.94485453  0.0244057   0.71790111 -0.88247291]\n",
            " [ 1.          1.35805072 -0.0289401   0.77124691 -0.82912711]\n",
            " [ 1.          1.46474232 -0.1889775   0.55786371 -1.09585611]\n",
            " [ 1.          1.67812552 -0.4557065   0.77124691 -0.82912711]\n",
            " [ 1.          1.35805072 -0.2956691   0.45117211 -1.04251031]\n",
            " [ 1.          1.51808812  0.0777515   0.93128431 -0.6690897 ]\n",
            " [ 1.          1.62477972 -0.1356317   0.50451791 -0.93581871]\n",
            " [ 1.          1.73147132 -0.2956691   0.98463012 -0.82912711]\n",
            " [ 1.          1.62477972 -0.1356317   0.87793851 -0.98916451]\n",
            " [ 1.          1.78481712 -0.0822859   0.66455531 -0.93581871]\n",
            " [ 1.          1.89150873 -0.0289401   0.71790111 -0.88247291]\n",
            " [ 1.          1.99820033 -0.1356317   0.93128431 -0.88247291]\n",
            " [ 1.          1.94485453 -0.0289401   1.03797592 -0.72243551]\n",
            " [ 1.          1.57143392 -0.0822859   0.77124691 -0.82912711]\n",
            " [ 1.          1.41139652 -0.2423233   0.23778891 -1.09585611]\n",
            " [ 1.          1.30470492 -0.3490149   0.39782631 -1.04251031]\n",
            " [ 1.          1.30470492 -0.3490149   0.34448051 -1.09585611]\n",
            " [ 1.          1.46474232 -0.1889775   0.45117211 -0.98916451]\n",
            " [ 1.          1.57143392 -0.1889775   1.09132172 -0.77578131]\n",
            " [ 1.          1.25135912 -0.0289401   0.77124691 -0.82912711]\n",
            " [ 1.          1.57143392  0.18444311  0.77124691 -0.77578131]\n",
            " [ 1.          1.94485453  0.0244057   0.87793851 -0.82912711]\n",
            " [ 1.          1.73147132 -0.4023607   0.71790111 -0.93581871]\n",
            " [ 1.          1.35805072 -0.0289401   0.55786371 -0.93581871]\n",
            " [ 1.          1.30470492 -0.2956691   0.50451791 -0.93581871]\n",
            " [ 1.          1.30470492 -0.2423233   0.71790111 -0.98916451]\n",
            " [ 1.          1.62477972 -0.0289401   0.82459271 -0.88247291]\n",
            " [ 1.          1.46474232 -0.2423233   0.50451791 -0.98916451]\n",
            " [ 1.          1.03797592 -0.4023607   0.13109731 -1.09585611]\n",
            " [ 1.          1.35805072 -0.1889775   0.61120951 -0.93581871]\n",
            " [ 1.          1.41139652 -0.0289401   0.61120951 -0.98916451]\n",
            " [ 1.          1.41139652 -0.0822859   0.61120951 -0.93581871]\n",
            " [ 1.          1.67812552 -0.0822859   0.66455531 -0.93581871]\n",
            " [ 1.          1.09132172 -0.2956691  -0.0289401  -1.04251031]\n",
            " [ 1.          1.41139652 -0.1356317   0.55786371 -0.93581871]]\n"
          ]
        }
      ],
      "source": [
        "# Your code here\n",
        "n,m = X.shape # gives you the dimensions of your matrix\n",
        "add_ones= np.ones((n,1))\n",
        "X = np.hstack((add_ones,X))\n",
        "print(X)\n",
        "\n",
        "# checking the shape of X\n",
        "assert X.shape == (100, 5)"
      ]
    },
    {
      "cell_type": "markdown",
      "metadata": {
        "id": "ysH-CvouQ6Di"
      },
      "source": [
        "### Task 4: Model initialization (1pt)\n",
        "Create parameters here. Initialize with zeros. Output should be a numpy array \n",
        "\n",
        "In case you forgot: $Y = \\sigma(X\\theta)$."
      ]
    },
    {
      "cell_type": "code",
      "execution_count": 110,
      "metadata": {
        "id": "f3l6A8MNQ6Dj"
      },
      "outputs": [],
      "source": [
        "# Your code here\n",
        "weight = np.zeros((5,))\n",
        "assert weight.shape == (5, )"
      ]
    },
    {
      "cell_type": "markdown",
      "metadata": {
        "id": "JLkIOFZ9Q6Dj"
      },
      "source": [
        "### Task 5: Sigmoid function (1pt)\n",
        "Implement the sigmoid function. You should use `np.exp` for this\n",
        "\n",
        "\n",
        "$$\\sigma(z) = \\frac{1}{1 + e^{-z}}$$"
      ]
    },
    {
      "cell_type": "code",
      "execution_count": 111,
      "metadata": {
        "id": "_nJmRkmyQ6Dj"
      },
      "outputs": [],
      "source": [
        "def sigmoid(z):\n",
        "    # Your code here\n",
        "    return 1.0 / (1.0 + np.exp(-z))\n",
        "  "
      ]
    },
    {
      "cell_type": "markdown",
      "metadata": {
        "id": "CyrOjvuWQ6Dk"
      },
      "source": [
        "### Task 6: Define evaluation metrics (2pt)\n",
        "Implement the accuracy score\n",
        "\n",
        "$$\\frac{\\text{\\# of correct prediction}}{\\text{\\# of datapoint}}$$"
      ]
    },
    {
      "cell_type": "code",
      "execution_count": 114,
      "metadata": {
        "id": "7egO7NqtQ6Dk"
      },
      "outputs": [],
      "source": [
        "from sklearn.linear_model import LogisticRegression\n",
        "def accuracy(X, y, weight):\n",
        "    '''\n",
        "    Evaluate the model, represented by `weight`, with data (X, Y).\n",
        "    \n",
        "    Input:\n",
        "        X:      data features\n",
        "        Y:      data labels\n",
        "        weight: model weights\n",
        "    Ouput:\n",
        "        Model accuracy on input data.\n",
        "        \n",
        "    '''\n",
        "    # implement your code here. Below are only some suggestion. \n",
        "    # You don't necessary have to follow the exact step\n",
        "\n",
        "    #Step 1: get the model prediction\n",
        "\n",
        "    #Step 2: Threshold the probability value to get the class. \n",
        "\n",
        "    #Step 3: Compare your model predicted classes with the label y\n",
        "\n",
        "    #step 4: calculate the accuracy using the formula above\n",
        "   \n",
        "    datapoints = len(y)\n",
        "    y_predict = sigmoid(X@weight)\n",
        "\n",
        "    y_predict = (y_predict > 2).astype(int)\n",
        "    y_correct = 0\n",
        "    \n",
        "    for y_value in range(len(y_predict),len(y)):\n",
        "      if y_predict[y_value] == y[y_value]:\n",
        "           y_correct += 1 \n",
        "\n",
        "    accuracy_score = y_correct / datapoints \n",
        "    return accuracy_score\n"
      ]
    },
    {
      "cell_type": "code",
      "source": [
        "y_predict = (X@weight)\n",
        "y_predict"
      ],
      "metadata": {
        "colab": {
          "base_uri": "https://localhost:8080/"
        },
        "id": "Ratv3wqNB8Sk",
        "outputId": "fdcd749e-3ca4-46db-8045-c2c5f367f3fc"
      },
      "execution_count": 115,
      "outputs": [
        {
          "output_type": "execute_result",
          "data": {
            "text/plain": [
              "array([0., 0., 0., 0., 0., 0., 0., 0., 0., 0., 0., 0., 0., 0., 0., 0., 0.,\n",
              "       0., 0., 0., 0., 0., 0., 0., 0., 0., 0., 0., 0., 0., 0., 0., 0., 0.,\n",
              "       0., 0., 0., 0., 0., 0., 0., 0., 0., 0., 0., 0., 0., 0., 0., 0., 0.,\n",
              "       0., 0., 0., 0., 0., 0., 0., 0., 0., 0., 0., 0., 0., 0., 0., 0., 0.,\n",
              "       0., 0., 0., 0., 0., 0., 0., 0., 0., 0., 0., 0., 0., 0., 0., 0., 0.,\n",
              "       0., 0., 0., 0., 0., 0., 0., 0., 0., 0., 0., 0., 0., 0., 0.])"
            ]
          },
          "metadata": {},
          "execution_count": 115
        }
      ]
    },
    {
      "cell_type": "code",
      "source": [
        "accuracy(X,y,weight)"
      ],
      "metadata": {
        "colab": {
          "base_uri": "https://localhost:8080/"
        },
        "id": "7LkX3qT32Pp-",
        "outputId": "a693a47c-93af-47f4-c8e8-9342bb069d51"
      },
      "execution_count": 116,
      "outputs": [
        {
          "output_type": "execute_result",
          "data": {
            "text/plain": [
              "0.0"
            ]
          },
          "metadata": {},
          "execution_count": 116
        }
      ]
    },
    {
      "cell_type": "markdown",
      "metadata": {
        "id": "Z0oYiXcCQ6Dl"
      },
      "source": [
        "### Hyperparameters"
      ]
    },
    {
      "cell_type": "code",
      "execution_count": 69,
      "metadata": {
        "id": "TzaBrDT2Q6Dl"
      },
      "outputs": [],
      "source": [
        "#Don't change these\n",
        "# learning rate\n",
        "alpha = 1e-2\n",
        "# epochs\n",
        "epoch = 10000"
      ]
    },
    {
      "cell_type": "markdown",
      "metadata": {
        "id": "g5TilBMaQ6Dl"
      },
      "source": [
        "### Task 7: Train the model. (3pt)\n",
        "Implement the model training loop:\n",
        "1. Calculate the model prediction\n",
        "$$h_\\theta(X) = \\sigma(X\\theta)$$\n",
        "2. Calculate the loss/cost function \n",
        "$$ J(\\theta) = \\frac{-1}{m} \\sum_{i=1}^{m} [y_i \\ln(h_\\theta(x_i)) +(1-y_i)\\ln(1-h_\\theta(x_i))]$$\n",
        "3. Calculate the gradient\n",
        "$$\n",
        "\\frac{\\partial J(\\theta)}{\\partial \\theta} = \\frac{1}{m} X^T(Y-h_\\theta(X))\n",
        "$$\n",
        "4. Update the model parameter \n",
        "$$\\theta = \\theta - \\alpha \\frac{\\partial J(\\theta)}{\\partial \\theta} $$\n",
        "5. Calcualte the model accuracy (use the function you implemented above)"
      ]
    },
    {
      "cell_type": "code",
      "execution_count": 130,
      "metadata": {
        "id": "a6CLWnAwQ6Dm",
        "colab": {
          "base_uri": "https://localhost:8080/"
        },
        "outputId": "d489d15d-ed86-4a4f-faeb-594483b6d16d"
      },
      "outputs": [
        {
          "output_type": "stream",
          "name": "stderr",
          "text": [
            "/usr/local/lib/python3.7/dist-packages/ipykernel_launcher.py:3: RuntimeWarning: overflow encountered in exp\n",
            "  This is separate from the ipykernel package so we can avoid doing imports until\n",
            "/usr/local/lib/python3.7/dist-packages/ipykernel_launcher.py:4: RuntimeWarning: divide by zero encountered in log\n",
            "  after removing the cwd from sys.path.\n",
            "/usr/local/lib/python3.7/dist-packages/ipykernel_launcher.py:4: RuntimeWarning: invalid value encountered in multiply\n",
            "  after removing the cwd from sys.path.\n"
          ]
        }
      ],
      "source": [
        "# your code here\n",
        "for ep in range(epoch):\n",
        "  y_predict = 1 / (1 + np.exp(-X @ weight))\n",
        "  loss = -np.sum(Y * np.log(y_predict) + (1 - Y) * np.log(1 - y_predict)) / y_predict.size \n",
        "  m = y_predict.size\n",
        "  gradient = (1 / m) * X.T @ (Y - y_predict)\n",
        "  weight = weight - alpha  * gradient\n",
        "    "
      ]
    },
    {
      "cell_type": "code",
      "execution_count": 131,
      "metadata": {
        "id": "cqYQyzMEQ6Dn",
        "colab": {
          "base_uri": "https://localhost:8080/",
          "height": 183
        },
        "outputId": "5305e240-59dc-443f-b937-858840a0b86f"
      },
      "outputs": [
        {
          "output_type": "error",
          "ename": "AssertionError",
          "evalue": "ignored",
          "traceback": [
            "\u001b[0;31m---------------------------------------------------------------------------\u001b[0m",
            "\u001b[0;31mAssertionError\u001b[0m                            Traceback (most recent call last)",
            "\u001b[0;32m<ipython-input-131-3b0ff20a62e8>\u001b[0m in \u001b[0;36m<module>\u001b[0;34m\u001b[0m\n\u001b[1;32m      1\u001b[0m \u001b[0;36m0\u001b[0m\u001b[0;31m# just to double check\u001b[0m\u001b[0;34m\u001b[0m\u001b[0;34m\u001b[0m\u001b[0m\n\u001b[0;32m----> 2\u001b[0;31m \u001b[0;32massert\u001b[0m \u001b[0mnp\u001b[0m\u001b[0;34m.\u001b[0m\u001b[0mallclose\u001b[0m\u001b[0;34m(\u001b[0m\u001b[0mweight\u001b[0m\u001b[0;34m,\u001b[0m \u001b[0mnp\u001b[0m\u001b[0;34m.\u001b[0m\u001b[0marray\u001b[0m\u001b[0;34m(\u001b[0m\u001b[0;34m[\u001b[0m\u001b[0;36m0.12047504\u001b[0m\u001b[0;34m,\u001b[0m \u001b[0;34m-\u001b[0m\u001b[0;36m0.44156746\u001b[0m\u001b[0;34m,\u001b[0m \u001b[0;34m-\u001b[0m\u001b[0;36m0.89309501\u001b[0m\u001b[0;34m,\u001b[0m \u001b[0;36m2.965364\u001b[0m\u001b[0;34m,\u001b[0m \u001b[0;36m3.3427994\u001b[0m\u001b[0;34m]\u001b[0m\u001b[0;34m)\u001b[0m\u001b[0;34m)\u001b[0m\u001b[0;34m\u001b[0m\u001b[0;34m\u001b[0m\u001b[0m\n\u001b[0m",
            "\u001b[0;31mAssertionError\u001b[0m: "
          ]
        }
      ],
      "source": [
        "0# just to double check\n",
        "assert np.allclose(weight, np.array([0.12047504, -0.44156746, -0.89309501, 2.965364, 3.3427994]))"
      ]
    },
    {
      "cell_type": "code",
      "execution_count": 127,
      "metadata": {
        "id": "c5k6yoNUQ6Dn",
        "outputId": "cad2d5d9-0b28-4092-cec6-9f9a52863f4d",
        "colab": {
          "base_uri": "https://localhost:8080/"
        }
      },
      "outputs": [
        {
          "output_type": "stream",
          "name": "stderr",
          "text": [
            "/usr/local/lib/python3.7/dist-packages/ipykernel_launcher.py:3: RuntimeWarning: overflow encountered in exp\n",
            "  This is separate from the ipykernel package so we can avoid doing imports until\n"
          ]
        },
        {
          "output_type": "execute_result",
          "data": {
            "text/plain": [
              "0.0"
            ]
          },
          "metadata": {},
          "execution_count": 127
        }
      ],
      "source": [
        "# model accuracy\n",
        "accuracy(X, Y, weight)"
      ]
    },
    {
      "cell_type": "markdown",
      "metadata": {
        "id": "wRMBtiW-Q6Do"
      },
      "source": [
        "### (Optional) How low can you go?\n",
        "Do anything you want to get the best performance out of the training set. For once, let's overfit to your heart's content."
      ]
    },
    {
      "cell_type": "code",
      "execution_count": null,
      "metadata": {
        "id": "mB28v2qrQ6Do"
      },
      "outputs": [],
      "source": [
        "# do some fun code here and try to match this :)\n",
        "..."
      ]
    },
    {
      "cell_type": "code",
      "execution_count": null,
      "metadata": {
        "id": "ZXmQVUKyQ6Dp",
        "outputId": "ffb2b40e-0cc2-465e-9a57-26675df531c9"
      },
      "outputs": [
        {
          "name": "stdout",
          "output_type": "stream",
          "text": [
            "Weights: [-0.35439119 -1.62584216 -2.21192859  7.74567601  7.72844057]\n",
            "Loss: 0.0594927339567942\n",
            "Accuracy: 0.98\n"
          ]
        }
      ],
      "source": [
        "print('Weights:', weight)\n",
        "y = 1 / (1 + np.exp(-X @ weight))\n",
        "loss = -np.sum(Y * np.log(y) + (1 - Y) * np.log(1 - y)) / y.size\n",
        "print('Loss:', loss)\n",
        "print('Accuracy:', accuracy(X, Y, weight))"
      ]
    }
  ],
  "metadata": {
    "interpreter": {
      "hash": "0d31d8e9435eeb371278650612d4e0ff3f973ecc6a4199c9ae1c8c510f127393"
    },
    "kernelspec": {
      "display_name": "Python 3 (ipykernel)",
      "language": "python",
      "name": "python3"
    },
    "language_info": {
      "codemirror_mode": {
        "name": "ipython",
        "version": 3
      },
      "file_extension": ".py",
      "mimetype": "text/x-python",
      "name": "python",
      "nbconvert_exporter": "python",
      "pygments_lexer": "ipython3",
      "version": "3.9.7"
    },
    "colab": {
      "provenance": [],
      "include_colab_link": true
    }
  },
  "nbformat": 4,
  "nbformat_minor": 0
}