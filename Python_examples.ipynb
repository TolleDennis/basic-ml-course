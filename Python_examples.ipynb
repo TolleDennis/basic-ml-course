{
  "cells": [
    {
      "cell_type": "markdown",
      "metadata": {
        "id": "view-in-github",
        "colab_type": "text"
      },
      "source": [
        "<a href=\"https://colab.research.google.com/github/TolleDennis/basic-ml-course/blob/master/Python_examples.ipynb\" target=\"_parent\"><img src=\"https://colab.research.google.com/assets/colab-badge.svg\" alt=\"Open In Colab\"/></a>"
      ]
    },
    {
      "cell_type": "code",
      "execution_count": 1,
      "id": "6c2f20f0",
      "metadata": {
        "colab": {
          "base_uri": "https://localhost:8080/"
        },
        "id": "6c2f20f0",
        "outputId": "df4ecc06-939b-46b8-eaa0-11a0f97a1e1a"
      },
      "outputs": [
        {
          "output_type": "execute_result",
          "data": {
            "text/plain": [
              "array([ 5, 11])"
            ]
          },
          "metadata": {},
          "execution_count": 1
        }
      ],
      "source": [
        "import numpy as np\n",
        "X = np.array([[1, 2], [3, 4]])\n",
        "#v = np.array([1, 2]).reshape((2, 1))\n",
        "v = np.array([1, 2])\n",
        "np.dot(X, v) # no broadcasting\n",
        "# X * v # broadcasting\n",
        "# np.dot(v, X)\n",
        "# X - X.mean(axis=0)"
      ]
    },
    {
      "cell_type": "code",
      "execution_count": 2,
      "id": "08432b2c",
      "metadata": {
        "colab": {
          "base_uri": "https://localhost:8080/"
        },
        "id": "08432b2c",
        "outputId": "968610f1-fc66-4b9a-ac98-15c32634867b"
      },
      "outputs": [
        {
          "output_type": "execute_result",
          "data": {
            "text/plain": [
              "array([ 0.,  5., 10.])"
            ]
          },
          "metadata": {},
          "execution_count": 2
        }
      ],
      "source": [
        "x = np.linspace(0, 10, 3)\n",
        "x"
      ]
    },
    {
      "cell_type": "code",
      "execution_count": 4,
      "id": "577aa7d2",
      "metadata": {
        "id": "577aa7d2"
      },
      "outputs": [],
      "source": [
        "X = [\"sherlock\",\"Melissa\",\"Anne\"]\n",
        "X.remove(\"sherlock\")\n",
        "X.extend([\"Calcium\",'Premature'])\n"
      ]
    },
    {
      "cell_type": "code",
      "execution_count": 5,
      "id": "db93aaad",
      "metadata": {
        "colab": {
          "base_uri": "https://localhost:8080/"
        },
        "id": "db93aaad",
        "outputId": "3901392a-8f6d-46c2-b6c8-44ab20303d09"
      },
      "outputs": [
        {
          "output_type": "execute_result",
          "data": {
            "text/plain": [
              "['sherlock', 'Melissa', 'Anne', 'Melissa', 'Andrew', 'Peter']"
            ]
          },
          "metadata": {},
          "execution_count": 5
        }
      ],
      "source": [
        "X = [\"sherlock\",\"Melissa\",\"Anne\",\"Melissa\",\"Andrew\",\"Peter\"]\n",
        "X.count(\"Melissa\")\n",
        "X.index(\"Melissa\")\n",
        "X\n",
        "\n"
      ]
    },
    {
      "cell_type": "code",
      "execution_count": 6,
      "id": "bcd4ae0b",
      "metadata": {
        "colab": {
          "base_uri": "https://localhost:8080/"
        },
        "id": "bcd4ae0b",
        "outputId": "32a6bd5d-7466-4686-d5ae-554bf98ef9ba"
      },
      "outputs": [
        {
          "output_type": "execute_result",
          "data": {
            "text/plain": [
              "True"
            ]
          },
          "metadata": {},
          "execution_count": 6
        }
      ],
      "source": [
        "'Melissa' in(X)"
      ]
    },
    {
      "cell_type": "code",
      "execution_count": 7,
      "id": "00e8ce9a",
      "metadata": {
        "colab": {
          "base_uri": "https://localhost:8080/"
        },
        "id": "00e8ce9a",
        "outputId": "6009eee9-8f66-46c1-e713-29352eac8793"
      },
      "outputs": [
        {
          "output_type": "execute_result",
          "data": {
            "text/plain": [
              "['Andrew', 'Anne', 'Melissa', 'Melissa', 'Peter', 'sherlock']"
            ]
          },
          "metadata": {},
          "execution_count": 7
        }
      ],
      "source": [
        "sorted(X)"
      ]
    },
    {
      "cell_type": "code",
      "execution_count": 8,
      "id": "56c668ca",
      "metadata": {
        "colab": {
          "base_uri": "https://localhost:8080/",
          "height": 35
        },
        "id": "56c668ca",
        "outputId": "6c00e4dc-b1fe-4c61-d49f-324c7c98fca4"
      },
      "outputs": [
        {
          "output_type": "execute_result",
          "data": {
            "text/plain": [
              "'The meaning of life is at 78years'"
            ],
            "application/vnd.google.colaboratory.intrinsic+json": {
              "type": "string"
            }
          },
          "metadata": {},
          "execution_count": 8
        }
      ],
      "source": [
        "x1 = \"The meaning of life is \"\n",
        "x2 = \"Survive\"\n",
        "x3 = x1 + str(\"at 78years\")\n",
        "x3"
      ]
    },
    {
      "cell_type": "code",
      "execution_count": 9,
      "id": "24a40988",
      "metadata": {
        "colab": {
          "base_uri": "https://localhost:8080/",
          "height": 35
        },
        "id": "24a40988",
        "outputId": "3af8f187-f995-4b6f-9ead-0e8837a519c3"
      },
      "outputs": [
        {
          "output_type": "execute_result",
          "data": {
            "text/plain": [
              "'playing football and tennis'"
            ],
            "application/vnd.google.colaboratory.intrinsic+json": {
              "type": "string"
            }
          },
          "metadata": {},
          "execution_count": 9
        }
      ],
      "source": [
        "'playing {} and {}'.format('football','tennis')"
      ]
    },
    {
      "cell_type": "code",
      "execution_count": 10,
      "id": "d7e2ae0e",
      "metadata": {
        "colab": {
          "base_uri": "https://localhost:8080/"
        },
        "id": "d7e2ae0e",
        "outputId": "204895ee-f793-4497-f8c0-27d11781d802"
      },
      "outputs": [
        {
          "output_type": "execute_result",
          "data": {
            "text/plain": [
              "23"
            ]
          },
          "metadata": {},
          "execution_count": 10
        }
      ],
      "source": [
        "serv = {\"Andrew\":1,\n",
        "       \"Alex:\":3,\n",
        "       \"Benson\":4,\n",
        "       \"Nicolas\":8}\n",
        "serv.update({\"Maggie\":23,\"Elizabeth\":12})\n",
        "serv.pop(\"Maggie\")"
      ]
    },
    {
      "cell_type": "code",
      "execution_count": 11,
      "id": "e8b2b590",
      "metadata": {
        "colab": {
          "base_uri": "https://localhost:8080/"
        },
        "id": "e8b2b590",
        "outputId": "2c7f7ce8-35fb-4595-dcd2-d8520c78c78f"
      },
      "outputs": [
        {
          "output_type": "stream",
          "name": "stdout",
          "text": [
            "8\n",
            "{'Andrew': 1, 'Alex:': 3, 'Benson': 4, 'Nicolas': 8, 'Elizabeth': 12}\n"
          ]
        }
      ],
      "source": [
        "try:\n",
        "    serv[\"Nicolas\"]\n",
        "    print(serv.get(\"Nicolas\"))\n",
        "    print(serv)\n",
        "    \n",
        "except KeyError as e:\n",
        "    print(\"Error\",e)"
      ]
    },
    {
      "cell_type": "code",
      "execution_count": 12,
      "id": "cca84a92",
      "metadata": {
        "colab": {
          "base_uri": "https://localhost:8080/",
          "height": 35
        },
        "id": "cca84a92",
        "outputId": "8cb3db03-b686-4eff-be8e-bcc4d665865f"
      },
      "outputs": [
        {
          "output_type": "execute_result",
          "data": {
            "text/plain": [
              "'not found'"
            ],
            "application/vnd.google.colaboratory.intrinsic+json": {
              "type": "string"
            }
          },
          "metadata": {},
          "execution_count": 12
        }
      ],
      "source": [
        "serv.get('anne',\"not found\")"
      ]
    },
    {
      "cell_type": "code",
      "execution_count": 13,
      "id": "df7d9a42",
      "metadata": {
        "colab": {
          "base_uri": "https://localhost:8080/"
        },
        "id": "df7d9a42",
        "outputId": "82d7a386-0fec-4c47-a962-32596bcc1bd5"
      },
      "outputs": [
        {
          "output_type": "execute_result",
          "data": {
            "text/plain": [
              "{'python'}"
            ]
          },
          "metadata": {},
          "execution_count": 13
        }
      ],
      "source": [
        "languages = {'python', 'r', 'java'}\n",
        "snakes = set(['cobra', 'viper', 'python']) \n",
        "x = languages & snakes\n",
        "x"
      ]
    },
    {
      "cell_type": "code",
      "execution_count": 14,
      "id": "e30b7c2f",
      "metadata": {
        "colab": {
          "base_uri": "https://localhost:8080/"
        },
        "id": "e30b7c2f",
        "outputId": "0f6321ee-334f-44bd-c994-cca2251c4b99"
      },
      "outputs": [
        {
          "output_type": "stream",
          "name": "stdout",
          "text": [
            "Apple\n",
            "Banana\n",
            "Cherry\n"
          ]
        }
      ],
      "source": [
        "fruits = ['apple', 'banana', 'cherry']\n",
        "for i in range(len(fruits) ):\n",
        "    print(fruits[i].capitalize())"
      ]
    },
    {
      "cell_type": "code",
      "execution_count": 15,
      "id": "2b3486e7",
      "metadata": {
        "colab": {
          "base_uri": "https://localhost:8080/"
        },
        "id": "2b3486e7",
        "outputId": "dc10c4ca-fff1-46a4-aaa6-eab0971f19e5"
      },
      "outputs": [
        {
          "output_type": "stream",
          "name": "stdout",
          "text": [
            "fer\n"
          ]
        }
      ],
      "source": [
        "print(\"fer\")"
      ]
    },
    {
      "cell_type": "code",
      "execution_count": 16,
      "id": "f8fa6438",
      "metadata": {
        "colab": {
          "base_uri": "https://localhost:8080/"
        },
        "id": "f8fa6438",
        "outputId": "5c07dbe3-a40b-4f7b-dc24-89fdcc6ddc9b"
      },
      "outputs": [
        {
          "output_type": "execute_result",
          "data": {
            "text/plain": [
              "[3, 'sherry sherry sherry ', 9, 12, 15]"
            ]
          },
          "metadata": {},
          "execution_count": 16
        }
      ],
      "source": [
        "nums = [1, \"sherry \", 3, 4, 5]\n",
        "cubes = []\n",
        "# for num in nums:\n",
        "#     cubes.append(num*3)\n",
        "# print(cubes)\n",
        "cubes = [num*3 for num in nums]\n",
        "cubes\n"
      ]
    },
    {
      "cell_type": "code",
      "execution_count": 17,
      "id": "b6eb1530",
      "metadata": {
        "colab": {
          "base_uri": "https://localhost:8080/",
          "height": 35
        },
        "id": "b6eb1530",
        "outputId": "19dad367-a965-41f6-98d1-8102a7dd3326"
      },
      "outputs": [
        {
          "output_type": "execute_result",
          "data": {
            "text/plain": [
              "'Hey kelly how are you today?'"
            ],
            "application/vnd.google.colaboratory.intrinsic+json": {
              "type": "string"
            }
          },
          "metadata": {},
          "execution_count": 17
        }
      ],
      "source": [
        "stat = \"Hey sally how are you today?\"\n",
        "stat.replace(\"sally\", \"kelly\")"
      ]
    },
    {
      "cell_type": "code",
      "execution_count": 18,
      "id": "f5d731d3",
      "metadata": {
        "colab": {
          "base_uri": "https://localhost:8080/"
        },
        "id": "f5d731d3",
        "outputId": "1d3385f8-3eed-48ec-d9f1-a57e56152485"
      },
      "outputs": [
        {
          "output_type": "execute_result",
          "data": {
            "text/plain": [
              "{'computer': 1,\n",
              " 'various': 1,\n",
              " 'certain': 1,\n",
              " 'emerging': 1,\n",
              " 'the': 2,\n",
              " 'Computer': 1,\n",
              " 'benefit': 1,\n",
              " 'and': 1,\n",
              " 'emerged': 1,\n",
              " 'come': 1,\n",
              " 'is': 2,\n",
              " 'stakeholders': 1,\n",
              " 'adamant': 1,\n",
              " 'activities': 1,\n",
              " 'togethers': 1,\n",
              " 'all': 1,\n",
              " 'field': 1,\n",
              " 'in': 2,\n",
              " 'world': 1,\n",
              " 'have': 1,\n",
              " 'an': 1,\n",
              " 'field.': 1,\n",
              " 'from': 1,\n",
              " 'It': 1,\n",
              " 'that': 2,\n",
              " 'technology': 1}"
            ]
          },
          "metadata": {},
          "execution_count": 18
        }
      ],
      "source": [
        "quote = \"\"\"Computer technology is an emerging field. It is adamant that all stakeholders in computer come togethers\n",
        "and benefit the world from the various activities that have emerged in certain field\n",
        "\"\"\"\n",
        "count = {word: 0 for word in set(quote.split())}\n",
        "for word in quote.split():\n",
        "    count[word] += 1\n",
        "count"
      ]
    },
    {
      "cell_type": "code",
      "execution_count": 19,
      "id": "4f60cf51",
      "metadata": {
        "colab": {
          "base_uri": "https://localhost:8080/"
        },
        "id": "4f60cf51",
        "outputId": "743f0d9e-9175-496c-be55-6e1262d6ff7b"
      },
      "outputs": [
        {
          "output_type": "stream",
          "name": "stdout",
          "text": [
            "Key c is missing. Add it with empty value\n",
            "{'a': [1, 2], 'b': [4, 5], 'c': []}\n"
          ]
        }
      ],
      "source": [
        "dct = dict(a=[1, 2], b=[4, 5])\n",
        "key = 'c'\n",
        "try:\n",
        "    dct[key]\n",
        "except:\n",
        "    print(\"Key %s is missing. Add it with empty value\" % key)\n",
        "dct['c'] = []\n",
        "print(dct)"
      ]
    },
    {
      "cell_type": "code",
      "execution_count": 20,
      "id": "a667612e",
      "metadata": {
        "colab": {
          "base_uri": "https://localhost:8080/",
          "height": 35
        },
        "id": "a667612e",
        "outputId": "8c8cfad7-2055-4c19-818f-9d9a0e1660ce"
      },
      "outputs": [
        {
          "output_type": "execute_result",
          "data": {
            "text/plain": [
              "'Is it a cat its just a dog'"
            ],
            "application/vnd.google.colaboratory.intrinsic+json": {
              "type": "string"
            }
          },
          "metadata": {},
          "execution_count": 20
        }
      ],
      "source": [
        "\n",
        "\"Is it a {} its just a {}\".format(\"cat\",\"dog\")"
      ]
    },
    {
      "cell_type": "code",
      "execution_count": 21,
      "id": "29ac46a3",
      "metadata": {
        "colab": {
          "base_uri": "https://localhost:8080/"
        },
        "id": "29ac46a3",
        "outputId": "47d838bc-13e8-478e-9176-426767012c98"
      },
      "outputs": [
        {
          "output_type": "stream",
          "name": "stdout",
          "text": [
            "[('sub-033', 'ses-01', 'mod-mri'), ('sub-044', 'ses-01', 'mod-mri'), ('sub-055', 'ses-02', 'mod-ctscan')]\n"
          ]
        }
      ],
      "source": [
        "import regex as re\n",
        "regex = re.compile(\"(sub-.+)_(ses-.+)_(mod-.+)\")\n",
        "strings = [\"abcsub-033_ses-01_mod-mri\", \"defsub-044_ses-01_mod-mri\", \"ghisub-055_ses-02_mod-ctscan\"]\n",
        "print([regex.findall(s)[0] for s in strings])"
      ]
    },
    {
      "cell_type": "code",
      "execution_count": 22,
      "id": "cbe8d55b",
      "metadata": {
        "colab": {
          "base_uri": "https://localhost:8080/",
          "height": 35
        },
        "id": "cbe8d55b",
        "outputId": "99dd6115-a46d-48c7-b38c-98fcbca37b8a"
      },
      "outputs": [
        {
          "output_type": "execute_result",
          "data": {
            "text/plain": [
              "'/tmp'"
            ],
            "application/vnd.google.colaboratory.intrinsic+json": {
              "type": "string"
            }
          },
          "metadata": {},
          "execution_count": 22
        }
      ],
      "source": [
        "import os\n",
        "import tempfile\n",
        "\n",
        "temp = tempfile.gettempdir()\n",
        "cws = os.getcwd()\n",
        "cws\n",
        "temp"
      ]
    },
    {
      "cell_type": "code",
      "execution_count": 23,
      "id": "b968db08",
      "metadata": {
        "colab": {
          "base_uri": "https://localhost:8080/"
        },
        "id": "b968db08",
        "outputId": "1e28b83a-c29e-4a94-c716-1183f46a25a7"
      },
      "outputs": [
        {
          "output_type": "stream",
          "name": "stdout",
          "text": [
            "Coca Cola    80\n",
            "Sprite       25\n",
            "Coke          3\n",
            "Fanta        80\n",
            "Dew          24\n",
            "ThumbsUp     25\n",
            "dtype: int64\n"
          ]
        }
      ],
      "source": [
        "# importing pandas as pd\n",
        "import pandas as pd\n",
        "  \n",
        "# Creating the Series\n",
        "sr = pd.Series([80, 25, 3, 80, 24, 25])\n",
        "  \n",
        "# Create the Index\n",
        "index_ = ['Coca Cola', 'Sprite', 'Coke', 'Fanta', 'Dew', 'ThumbsUp']\n",
        "  \n",
        "# set the index\n",
        "sr.index = index_\n",
        "  \n",
        "# Print the series\n",
        "print(sr)"
      ]
    },
    {
      "cell_type": "code",
      "execution_count": 24,
      "id": "323065a2",
      "metadata": {
        "colab": {
          "base_uri": "https://localhost:8080/"
        },
        "id": "323065a2",
        "outputId": "04eab695-58a6-4980-a72f-f004843c59cf"
      },
      "outputs": [
        {
          "output_type": "execute_result",
          "data": {
            "text/plain": [
              "(array([0, 1, 2, 0, 3, 1]), Int64Index([80, 25, 3, 24], dtype='int64'))"
            ]
          },
          "metadata": {},
          "execution_count": 24
        }
      ],
      "source": [
        "sr.factorize()"
      ]
    },
    {
      "cell_type": "code",
      "execution_count": 24,
      "id": "3caf0e65",
      "metadata": {
        "id": "3caf0e65"
      },
      "outputs": [],
      "source": []
    }
  ],
  "metadata": {
    "kernelspec": {
      "display_name": "Python 3 (ipykernel)",
      "language": "python",
      "name": "python3"
    },
    "language_info": {
      "codemirror_mode": {
        "name": "ipython",
        "version": 3
      },
      "file_extension": ".py",
      "mimetype": "text/x-python",
      "name": "python",
      "nbconvert_exporter": "python",
      "pygments_lexer": "ipython3",
      "version": "3.9.7"
    },
    "colab": {
      "provenance": [],
      "include_colab_link": true
    }
  },
  "nbformat": 4,
  "nbformat_minor": 5
}