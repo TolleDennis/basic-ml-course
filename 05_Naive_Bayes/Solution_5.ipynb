{
  "cells": [
    {
      "cell_type": "markdown",
      "metadata": {
        "id": "view-in-github",
        "colab_type": "text"
      },
      "source": [
        "<a href=\"https://colab.research.google.com/github/TolleDennis/basic-ml-course/blob/naivebayes/05_Naive_Bayes/Solution_5.ipynb\" target=\"_parent\"><img src=\"https://colab.research.google.com/assets/colab-badge.svg\" alt=\"Open In Colab\"/></a>"
      ]
    },
    {
      "cell_type": "markdown",
      "metadata": {
        "id": "h6sFU3yy9rKe"
      },
      "source": [
        "In this assignment, we will implement Bernoulli Naive Bayes and Multinomial Naive Bayes, and apply them for text classification. \\\\\n",
        "We will experiment on the 20 newsgroups text dataset. It comprises around 18000 newsgroups posts on 20 topics split in two subsets: one for training (or development) and the other one for testing (or for performance evaluation). \\\\\n",
        "First, we load the dataset from sklearn"
      ]
    },
    {
      "cell_type": "code",
      "execution_count": 60,
      "metadata": {
        "id": "VUJshdxZ8N7G"
      },
      "outputs": [],
      "source": [
        "from sklearn.datasets import fetch_20newsgroups\n",
        "newsgroups_train = fetch_20newsgroups(subset='train')\n",
        "newsgroups_test = fetch_20newsgroups(subset='test')"
      ]
    },
    {
      "cell_type": "markdown",
      "metadata": {
        "id": "PXgEMdjf-drl"
      },
      "source": [
        "You can access to text by `data` property. For labels, their name and corresponding numeric values are stored in `target_names` and `target`. \\\\\n",
        "Let's take a look at our data"
      ]
    },
    {
      "cell_type": "code",
      "execution_count": 61,
      "metadata": {
        "colab": {
          "base_uri": "https://localhost:8080/"
        },
        "id": "Pri0JqOR-mP_",
        "outputId": "6b1b5482-a0ab-444e-97d4-18926bea4f20"
      },
      "outputs": [
        {
          "output_type": "execute_result",
          "data": {
            "text/plain": [
              "11314"
            ]
          },
          "metadata": {},
          "execution_count": 61
        }
      ],
      "source": [
        "len(newsgroups_train.data)"
      ]
    },
    {
      "cell_type": "code",
      "execution_count": 62,
      "metadata": {
        "colab": {
          "base_uri": "https://localhost:8080/"
        },
        "id": "2cHbCpXdnwmp",
        "outputId": "252edd18-7dcd-4313-ff70-fb57c63f952d"
      },
      "outputs": [
        {
          "output_type": "execute_result",
          "data": {
            "text/plain": [
              "7532"
            ]
          },
          "metadata": {},
          "execution_count": 62
        }
      ],
      "source": [
        "len(newsgroups_test.data)"
      ]
    },
    {
      "cell_type": "code",
      "execution_count": 63,
      "metadata": {
        "colab": {
          "base_uri": "https://localhost:8080/"
        },
        "id": "oWzOQVje-0OI",
        "outputId": "4d187631-800e-4993-e5ff-f89f6ad38c57"
      },
      "outputs": [
        {
          "output_type": "execute_result",
          "data": {
            "text/plain": [
              "(array([7, 4, 4, ..., 3, 1, 8]),\n",
              " ['alt.atheism',\n",
              "  'comp.graphics',\n",
              "  'comp.os.ms-windows.misc',\n",
              "  'comp.sys.ibm.pc.hardware',\n",
              "  'comp.sys.mac.hardware',\n",
              "  'comp.windows.x',\n",
              "  'misc.forsale',\n",
              "  'rec.autos',\n",
              "  'rec.motorcycles',\n",
              "  'rec.sport.baseball',\n",
              "  'rec.sport.hockey',\n",
              "  'sci.crypt',\n",
              "  'sci.electronics',\n",
              "  'sci.med',\n",
              "  'sci.space',\n",
              "  'soc.religion.christian',\n",
              "  'talk.politics.guns',\n",
              "  'talk.politics.mideast',\n",
              "  'talk.politics.misc',\n",
              "  'talk.religion.misc'])"
            ]
          },
          "metadata": {},
          "execution_count": 63
        }
      ],
      "source": [
        "newsgroups_train.target, newsgroups_train.target_names"
      ]
    },
    {
      "cell_type": "code",
      "execution_count": 64,
      "metadata": {
        "colab": {
          "base_uri": "https://localhost:8080/",
          "height": 122
        },
        "id": "2RDyDW0N-XGU",
        "outputId": "d8d90c7c-fc7e-4d59-c859-6d4cce2cd70f"
      },
      "outputs": [
        {
          "output_type": "execute_result",
          "data": {
            "text/plain": [
              "\"From: lerxst@wam.umd.edu (where's my thing)\\nSubject: WHAT car is this!?\\nNntp-Posting-Host: rac3.wam.umd.edu\\nOrganization: University of Maryland, College Park\\nLines: 15\\n\\n I was wondering if anyone out there could enlighten me on this car I saw\\nthe other day. It was a 2-door sports car, looked to be from the late 60s/\\nearly 70s. It was called a Bricklin. The doors were really small. In addition,\\nthe front bumper was separate from the rest of the body. This is \\nall I know. If anyone can tellme a model name, engine specs, years\\nof production, where this car is made, history, or whatever info you\\nhave on this funky looking car, please e-mail.\\n\\nThanks,\\n- IL\\n   ---- brought to you by your neighborhood Lerxst ----\\n\\n\\n\\n\\n\""
            ],
            "application/vnd.google.colaboratory.intrinsic+json": {
              "type": "string"
            }
          },
          "metadata": {},
          "execution_count": 64
        }
      ],
      "source": [
        "newsgroups_train.data[0]"
      ]
    },
    {
      "cell_type": "markdown",
      "metadata": {
        "id": "U3AQxoDZ_hBe"
      },
      "source": [
        "When applying machine learning to solve problems, designing algorithm is not the only way to optimize. We can also intervene on data, i.e. data preprocessing, feature selection, etc. In some case, this approach is even better than model optimizing. <br>\n",
        "For this dataset, you can notice that the text have lots of redundant information, for example punctuation, title, etc. We can remove those from our data to get better performance. Here I define a function to remove all punctuation from text."
      ]
    },
    {
      "cell_type": "code",
      "execution_count": 65,
      "metadata": {
        "id": "d1wQ6mFp-YyE"
      },
      "outputs": [],
      "source": [
        "def remove_tokens(token_list, text):\n",
        "    for token in token_list:\n",
        "        text = text.replace(token, '')\n",
        "    return text"
      ]
    },
    {
      "cell_type": "code",
      "execution_count": 68,
      "metadata": {
        "id": "yw6KGy8pBPUr"
      },
      "outputs": [],
      "source": [
        "from string import punctuation\n",
        "preprocessed_text = [remove_tokens(punctuation, text) for text in newsgroups_train.data]"
      ]
    },
    {
      "cell_type": "markdown",
      "metadata": {
        "id": "FK2T5rTQBZEY"
      },
      "source": [
        "**Assignment 1** : First we have to transform text into numeric feature. You have to build a matrix that counts word occurences in each documents **(0.5pt)**. For fast computing, we only select `30000` words with highest frequency. <br>\n",
        "*Hint* You should use `sklearn.feature_extraction.text.CountVectorizer` and `max_features` argument."
      ]
    },
    {
      "cell_type": "code",
      "execution_count": 73,
      "metadata": {
        "id": "426ZmPR-ytRL",
        "colab": {
          "base_uri": "https://localhost:8080/"
        },
        "outputId": "0604f65b-89cd-4112-c6f6-39b3b36d67d0"
      },
      "outputs": [
        {
          "output_type": "execute_result",
          "data": {
            "text/plain": [
              "(11314, 30000)"
            ]
          },
          "metadata": {},
          "execution_count": 73
        }
      ],
      "source": [
        "from sklearn.feature_extraction.text import CountVectorizer\n",
        "\n",
        "num_word = 30000\n",
        "vectorizer = CountVectorizer(max_features = num_word)\n",
        "train_data = vectorizer.fit_transform(preprocessed_text).toarray()\n",
        "train_data.shape"
      ]
    },
    {
      "cell_type": "code",
      "source": [
        "vectorizer.vocabulary_"
      ],
      "metadata": {
        "colab": {
          "base_uri": "https://localhost:8080/"
        },
        "id": "21mCsxMLzT4Q",
        "outputId": "532a2a64-556f-47ef-bddc-a63ef47f1e2f"
      },
      "execution_count": 74,
      "outputs": [
        {
          "output_type": "execute_result",
          "data": {
            "text/plain": [
              "{'from': 11778,\n",
              " 'wheres': 29043,\n",
              " 'my': 18325,\n",
              " 'thing': 26881,\n",
              " 'subject': 25951,\n",
              " 'what': 29023,\n",
              " 'car': 5663,\n",
              " 'is': 14681,\n",
              " 'this': 26897,\n",
              " 'nntppostinghost': 18823,\n",
              " 'rac3wamumdedu': 22004,\n",
              " 'organization': 19644,\n",
              " 'university': 27917,\n",
              " 'of': 19310,\n",
              " 'maryland': 17087,\n",
              " 'college': 6705,\n",
              " 'park': 20130,\n",
              " 'lines': 16256,\n",
              " '15': 513,\n",
              " 'was': 28796,\n",
              " 'wondering': 29322,\n",
              " 'if': 13778,\n",
              " 'anyone': 3267,\n",
              " 'out': 19760,\n",
              " 'there': 26839,\n",
              " 'could': 7526,\n",
              " 'enlighten': 10248,\n",
              " 'me': 17321,\n",
              " 'on': 19455,\n",
              " 'saw': 23747,\n",
              " 'the': 26799,\n",
              " 'other': 19733,\n",
              " 'day': 8119,\n",
              " 'it': 14740,\n",
              " '2door': 1168,\n",
              " 'sports': 25387,\n",
              " 'looked': 16454,\n",
              " 'to': 27093,\n",
              " 'be': 4281,\n",
              " 'late': 15839,\n",
              " '60s': 1714,\n",
              " 'early': 9738,\n",
              " '70s': 1859,\n",
              " 'called': 5542,\n",
              " 'doors': 9370,\n",
              " 'were': 28980,\n",
              " 'really': 22267,\n",
              " 'small': 24888,\n",
              " 'in': 13975,\n",
              " 'addition': 2483,\n",
              " 'front': 11779,\n",
              " 'bumper': 5281,\n",
              " 'separate': 24210,\n",
              " 'rest': 22873,\n",
              " 'body': 4817,\n",
              " 'all': 2855,\n",
              " 'know': 15546,\n",
              " 'can': 5590,\n",
              " 'model': 17880,\n",
              " 'name': 18391,\n",
              " 'engine': 10221,\n",
              " 'specs': 25251,\n",
              " 'years': 29827,\n",
              " 'production': 21489,\n",
              " 'where': 29037,\n",
              " 'made': 16718,\n",
              " 'history': 13306,\n",
              " 'or': 19600,\n",
              " 'whatever': 29024,\n",
              " 'info': 14175,\n",
              " 'you': 29880,\n",
              " 'have': 12964,\n",
              " 'funky': 11868,\n",
              " 'looking': 16455,\n",
              " 'please': 20890,\n",
              " 'email': 10060,\n",
              " 'thanks': 26787,\n",
              " 'il': 13812,\n",
              " 'brought': 5153,\n",
              " 'by': 5401,\n",
              " 'your': 29893,\n",
              " 'neighborhood': 18558,\n",
              " 'guykuocarsonuwashingtonedu': 12688,\n",
              " 'guy': 12684,\n",
              " 'kuo': 15659,\n",
              " 'si': 24579,\n",
              " 'clock': 6527,\n",
              " 'poll': 21007,\n",
              " 'final': 11264,\n",
              " 'call': 5536,\n",
              " 'summary': 26081,\n",
              " 'for': 11539,\n",
              " 'reports': 22736,\n",
              " 'keywords': 15401,\n",
              " 'articleid': 3559,\n",
              " 'washington': 28804,\n",
              " '11': 301,\n",
              " 'carsonuwashingtonedu': 5731,\n",
              " 'fair': 10934,\n",
              " 'number': 19087,\n",
              " 'brave': 5032,\n",
              " 'souls': 25130,\n",
              " 'who': 29073,\n",
              " 'upgraded': 28032,\n",
              " 'their': 26806,\n",
              " 'oscillator': 19708,\n",
              " 'shared': 24381,\n",
              " 'experiences': 10741,\n",
              " 'send': 24175,\n",
              " 'brief': 5093,\n",
              " 'message': 17481,\n",
              " 'detailing': 8668,\n",
              " 'with': 29248,\n",
              " 'procedure': 21452,\n",
              " 'top': 27169,\n",
              " 'speed': 25274,\n",
              " 'attained': 3782,\n",
              " 'cpu': 7611,\n",
              " 'rated': 22151,\n",
              " 'add': 2470,\n",
              " 'cards': 5684,\n",
              " 'and': 3101,\n",
              " 'adapters': 2465,\n",
              " 'heat': 13047,\n",
              " 'sinks': 24704,\n",
              " 'hour': 13526,\n",
              " 'usage': 28077,\n",
              " 'per': 20421,\n",
              " 'floppy': 11433,\n",
              " 'disk': 9078,\n",
              " 'functionality': 11850,\n",
              " '800': 1949,\n",
              " '14': 469,\n",
              " 'floppies': 11432,\n",
              " 'are': 3440,\n",
              " 'especially': 10450,\n",
              " 'requested': 22774,\n",
              " 'will': 29125,\n",
              " 'summarizing': 26080,\n",
              " 'next': 18689,\n",
              " 'two': 27630,\n",
              " 'days': 8122,\n",
              " 'so': 24973,\n",
              " 'network': 18621,\n",
              " 'knowledge': 15552,\n",
              " 'base': 4176,\n",
              " 'done': 9354,\n",
              " 'upgrade': 28031,\n",
              " 'havent': 12967,\n",
              " 'answered': 3202,\n",
              " 'guykuouwashingtonedu': 12689,\n",
              " 'thomas': 26900,\n",
              " 'willis': 29137,\n",
              " 'pb': 20305,\n",
              " 'questions': 21939,\n",
              " 'purdue': 21806,\n",
              " 'engineering': 10224,\n",
              " 'computer': 6988,\n",
              " 'distribution': 9178,\n",
              " 'usa': 28074,\n",
              " '36': 1308,\n",
              " 'well': 28957,\n",
              " 'folks': 11502,\n",
              " 'mac': 16658,\n",
              " 'plus': 20923,\n",
              " 'finally': 11266,\n",
              " 'gave': 12014,\n",
              " 'up': 28022,\n",
              " 'ghost': 12176,\n",
              " 'weekend': 28920,\n",
              " 'after': 2657,\n",
              " 'starting': 25571,\n",
              " 'life': 16188,\n",
              " 'as': 3575,\n",
              " '512k': 1584,\n",
              " 'way': 28854,\n",
              " 'back': 4004,\n",
              " '1985': 797,\n",
              " 'sooo': 25104,\n",
              " 'im': 13843,\n",
              " 'market': 17018,\n",
              " 'new': 18651,\n",
              " 'machine': 16673,\n",
              " 'bit': 4648,\n",
              " 'sooner': 25103,\n",
              " 'than': 26782,\n",
              " 'intended': 14404,\n",
              " 'into': 14518,\n",
              " 'picking': 20675,\n",
              " 'powerbook': 21165,\n",
              " '160': 560,\n",
              " 'maybe': 17220,\n",
              " '180': 639,\n",
              " 'bunch': 5286,\n",
              " 'that': 26791,\n",
              " 'hopefully': 13464,\n",
              " 'somebody': 25069,\n",
              " 'answer': 3201,\n",
              " 'does': 9300,\n",
              " 'anybody': 3263,\n",
              " 'any': 3261,\n",
              " 'dirt': 8954,\n",
              " 'when': 29035,\n",
              " 'round': 23357,\n",
              " 'expected': 10725,\n",
              " 'id': 13741,\n",
              " 'heard': 13036,\n",
              " 'supposed': 26168,\n",
              " 'make': 16827,\n",
              " 'an': 3064,\n",
              " 'summer': 26082,\n",
              " 'but': 5364,\n",
              " 'anymore': 3266,\n",
              " 'since': 24683,\n",
              " 'dont': 9364,\n",
              " 'access': 2320,\n",
              " 'had': 12726,\n",
              " 'more': 18025,\n",
              " 'has': 12928,\n",
              " 'rumors': 23466,\n",
              " 'about': 2252,\n",
              " 'price': 21374,\n",
              " 'drops': 9554,\n",
              " 'line': 16249,\n",
              " 'like': 16217,\n",
              " 'ones': 19471,\n",
              " 'duos': 9645,\n",
              " 'just': 15197,\n",
              " 'went': 28979,\n",
              " 'through': 26949,\n",
              " 'recently': 22320,\n",
              " 'whats': 29026,\n",
              " 'impression': 13957,\n",
              " 'display': 9111,\n",
              " 'probably': 21441,\n",
              " 'swing': 26305,\n",
              " 'got': 12370,\n",
              " '80mb': 1976,\n",
              " 'rather': 22153,\n",
              " '120': 357,\n",
              " 'feel': 11108,\n",
              " 'how': 13543,\n",
              " 'much': 18188,\n",
              " 'better': 4497,\n",
              " 'yea': 29820,\n",
              " 'looks': 16457,\n",
              " 'great': 12492,\n",
              " 'store': 25777,\n",
              " 'wow': 29420,\n",
              " 'good': 12343,\n",
              " 'solicit': 25047,\n",
              " 'some': 25068,\n",
              " 'opinions': 19552,\n",
              " 'people': 20413,\n",
              " 'use': 28082,\n",
              " 'daytoday': 8125,\n",
              " 'its': 14760,\n",
              " 'worth': 29403,\n",
              " 'taking': 26436,\n",
              " 'size': 24740,\n",
              " 'money': 17958,\n",
              " 'hit': 13307,\n",
              " 'get': 12155,\n",
              " 'active': 2431,\n",
              " 'realize': 22263,\n",
              " 'real': 22254,\n",
              " 'subjective': 25953,\n",
              " 'question': 21934,\n",
              " 'ive': 14767,\n",
              " 'only': 19485,\n",
              " 'played': 20874,\n",
              " 'around': 3521,\n",
              " 'machines': 16677,\n",
              " 'figured': 11233,\n",
              " 'actually': 2441,\n",
              " 'uses': 28097,\n",
              " 'daily': 7983,\n",
              " 'might': 17619,\n",
              " 'prove': 21670,\n",
              " 'helpful': 13110,\n",
              " 'perform': 20438,\n",
              " 'advance': 2568,\n",
              " 'ill': 13817,\n",
              " 'post': 21110,\n",
              " 'news': 18669,\n",
              " 'reading': 22242,\n",
              " 'time': 27023,\n",
              " 'at': 3724,\n",
              " 'premium': 21287,\n",
              " 'finals': 11267,\n",
              " 'corner': 7451,\n",
              " 'tom': 27126,\n",
              " 'electrical': 9990,\n",
              " 'convictions': 7373,\n",
              " 'dangerous': 8021,\n",
              " 'enemies': 10200,\n",
              " 'truth': 27507,\n",
              " 'lies': 16185,\n",
              " 'nietzsche': 18763,\n",
              " 'joe': 15034,\n",
              " 'green': 12504,\n",
              " 're': 22221,\n",
              " 'weitek': 28947,\n",
              " 'p9000': 19951,\n",
              " 'harris': 12913,\n",
              " 'systems': 26385,\n",
              " 'division': 9219,\n",
              " 'world': 29378,\n",
              " 'xnewsreader': 29669,\n",
              " 'tin': 27045,\n",
              " 'version': 28391,\n",
              " 'pl9': 20815,\n",
              " 'robert': 23209,\n",
              " 'jc': 14883,\n",
              " 'kyanko': 15676,\n",
              " 'robrjckuucp': 23226,\n",
              " 'wrote': 29470,\n",
              " 'writes': 29456,\n",
              " 'article': 3558,\n",
              " 'graphics': 12467,\n",
              " 'chip': 6194,\n",
              " 'far': 10989,\n",
              " 'lowlevel': 16528,\n",
              " 'stuff': 25919,\n",
              " 'goes': 12318,\n",
              " 'pretty': 21354,\n",
              " 'nice': 18721,\n",
              " 'fill': 11249,\n",
              " 'command': 6783,\n",
              " 'requires': 22782,\n",
              " 'four': 11642,\n",
              " 'points': 20973,\n",
              " 'do': 9261,\n",
              " 'addressphone': 2497,\n",
              " 'information': 14185,\n",
              " 'corporation': 7462,\n",
              " 'scares': 23804,\n",
              " 'person': 20501,\n",
              " 'no': 18825,\n",
              " 'sense': 24187,\n",
              " 'humor': 13632,\n",
              " 'jonathan': 15070,\n",
              " 'winters': 29214,\n",
              " 'mcdowell': 17270,\n",
              " 'shuttle': 24575,\n",
              " 'launch': 15865,\n",
              " 'smithsonian': 24914,\n",
              " 'astrophysical': 3717,\n",
              " 'observatory': 19223,\n",
              " 'cambridge': 5565,\n",
              " 'ma': 16653,\n",
              " 'sci': 23869,\n",
              " '23': 1034,\n",
              " 'baker': 4060,\n",
              " 'pack': 19965,\n",
              " 'rat': 22149,\n",
              " 'clear': 6450,\n",
              " 'caution': 5818,\n",
              " 'warning': 28770,\n",
              " 'memory': 17428,\n",
              " 'verify': 28379,\n",
              " 'unexpected': 27860,\n",
              " 'errors': 10417,\n",
              " 'am': 2966,\n",
              " 'error': 10416,\n",
              " 'sorry': 25118,\n",
              " 'dumb': 9630,\n",
              " 'parity': 20129,\n",
              " 'previously': 21371,\n",
              " 'known': 15556,\n",
              " 'conditions': 7063,\n",
              " 'yes': 29847,\n",
              " 'we': 28880,\n",
              " 'already': 2922,\n",
              " 'knew': 15530,\n",
              " 'curious': 7866,\n",
              " 'meaning': 17330,\n",
              " 'quote': 21972,\n",
              " 'understanding': 27828,\n",
              " 'basically': 4196,\n",
              " 'bugs': 5239,\n",
              " 'system': 26379,\n",
              " 'software': 25027,\n",
              " 'things': 26882,\n",
              " 'checked': 6112,\n",
              " 'right': 23094,\n",
              " 'values': 28235,\n",
              " 'yet': 29851,\n",
              " 'because': 4319,\n",
              " 'they': 26860,\n",
              " 'arent': 3447,\n",
              " 'set': 24271,\n",
              " 'till': 27019,\n",
              " 'fix': 11346,\n",
              " 'code': 6642,\n",
              " 'possibly': 21109,\n",
              " 'introduce': 14537,\n",
              " 'tell': 26649,\n",
              " 'crew': 7675,\n",
              " 'ok': 19388,\n",
              " 'see': 24058,\n",
              " '213': 985,\n",
              " 'before': 4349,\n",
              " 'liftoff': 16203,\n",
              " 'ignore': 13790,\n",
              " 'dfovttoulutkovttfi': 8762,\n",
              " 'foxvog': 11655,\n",
              " 'douglas': 9430,\n",
              " 'rewording': 23009,\n",
              " 'second': 24027,\n",
              " 'amendment': 2999,\n",
              " 'ideas': 13752,\n",
              " '58': 1658,\n",
              " 'cdtswstratuscom': 5878,\n",
              " 'tavares': 26526,\n",
              " 'jrutledgcsulowelledu': 15122,\n",
              " 'john': 15042,\n",
              " 'lawrence': 15892,\n",
              " 'rutledge': 23504,\n",
              " 'massive': 17119,\n",
              " 'destructive': 8660,\n",
              " 'power': 21164,\n",
              " 'many': 16955,\n",
              " 'modern': 17895,\n",
              " 'weapons': 28895,\n",
              " 'makes': 16832,\n",
              " 'cost': 7510,\n",
              " 'accidental': 2330,\n",
              " 'these': 26854,\n",
              " 'mass': 17106,\n",
              " 'destruction': 8659,\n",
              " 'need': 18524,\n",
              " 'control': 7335,\n",
              " 'government': 12385,\n",
              " 'individual': 14096,\n",
              " 'would': 29408,\n",
              " 'result': 22900,\n",
              " 'needless': 18530,\n",
              " 'deaths': 8195,\n",
              " 'millions': 17674,\n",
              " 'keep': 15310,\n",
              " 'bear': 4293,\n",
              " 'nonexistant': 18872,\n",
              " 'stating': 25597,\n",
              " 'youre': 29894,\n",
              " 'coming': 6781,\n",
              " 'say': 23751,\n",
              " 'disagree': 8964,\n",
              " 'every': 10569,\n",
              " 'count': 7534,\n",
              " 'believe': 4397,\n",
              " 'individuals': 14099,\n",
              " 'should': 24534,\n",
              " 'own': 19909,\n",
              " 'find': 11274,\n",
              " 'hard': 12872,\n",
              " 'support': 26159,\n",
              " 'neighbors': 18561,\n",
              " 'nuclear': 19070,\n",
              " 'biological': 4619,\n",
              " 'nerve': 18587,\n",
              " 'gas': 11984,\n",
              " 'hisher': 13293,\n",
              " 'property': 21594,\n",
              " 'cannot': 5618,\n",
              " 'even': 10558,\n",
              " 'agree': 2692,\n",
              " 'keeping': 15313,\n",
              " 'hands': 12833,\n",
              " 'hope': 13461,\n",
              " 'us': 28072,\n",
              " 'sign': 24618,\n",
              " 'blank': 4699,\n",
              " 'checks': 6122,\n",
              " 'course': 7566,\n",
              " 'term': 26707,\n",
              " 'must': 18290,\n",
              " 'defined': 8346,\n",
              " 'bill': 4582,\n",
              " 'doug': 9426,\n",
              " 'says': 23754,\n",
              " 'he': 13004,\n",
              " 'means': 17334,\n",
              " 'nukes': 19082,\n",
              " 'sarah': 23678,\n",
              " 'brady': 5003,\n",
              " 'she': 24410,\n",
              " 'street': 25839,\n",
              " 'sweeper': 26285,\n",
              " 'shotguns': 24532,\n",
              " 'semiautomatic': 24154,\n",
              " 'sks': 24781,\n",
              " 'rifles': 23089,\n",
              " 'doubt': 9419,\n",
              " 'using': 28099,\n",
              " 'allegedly': 2864,\n",
              " 'her': 13136,\n",
              " 'then': 26817,\n",
              " 'immediately': 13879,\n",
              " 'follows': 11509,\n",
              " 'thousands': 26924,\n",
              " 'killed': 15434,\n",
              " 'each': 9717,\n",
              " 'year': 29822,\n",
              " 'handguns': 12819,\n",
              " 'easily': 9758,\n",
              " 'reduced': 22415,\n",
              " 'putting': 21834,\n",
              " 'reasonable': 22279,\n",
              " 'restrictions': 22895,\n",
              " 'them': 26812,\n",
              " 'mean': 17329,\n",
              " 'read': 22235,\n",
              " 'presenting': 21316,\n",
              " 'first': 11317,\n",
              " 'argument': 3471,\n",
              " 'commonly': 6833,\n",
              " 'understood': 27831,\n",
              " 'switching': 26313,\n",
              " 'topics': 27174,\n",
              " 'point': 20967,\n",
              " 'evidently': 10582,\n",
              " 'show': 24546,\n",
              " 'not': 18967,\n",
              " 'allowed': 2890,\n",
              " 'later': 15843,\n",
              " 'analysis': 3077,\n",
              " 'given': 12218,\n",
              " 'consider': 7187,\n",
              " 'another': 3196,\n",
              " 'class': 6420,\n",
              " 'cdtrocketswstratuscom': 5877,\n",
              " 'speak': 25218,\n",
              " 'company': 6857,\n",
              " 'cdtvosstratuscom': 5879,\n",
              " 'write': 29453,\n",
              " 'today': 27103,\n",
              " 'special': 25225,\n",
              " 'investors': 14592,\n",
              " 'packet': 19974,\n",
              " 'brian': 5081,\n",
              " 'manning': 16928,\n",
              " 'delaney': 8393,\n",
              " 'brain': 5007,\n",
              " 'tumor': 27563,\n",
              " 'treatment': 27397,\n",
              " 'replyto': 22728,\n",
              " 'bmdelanemidwayuchicagoedu': 4778,\n",
              " 'chicago': 6165,\n",
              " '12': 356,\n",
              " 'few': 11180,\n",
              " 'responded': 22863,\n",
              " 'request': 22773,\n",
              " 'whom': 29083,\n",
              " 'couldnt': 7527,\n",
              " 'thank': 26783,\n",
              " 'directly': 8947,\n",
              " 'probs': 21449,\n",
              " 'sean': 24003,\n",
              " 'sharon': 24392,\n",
              " 'thought': 26920,\n",
              " 'publicly': 21750,\n",
              " 'everyone': 10573,\n",
              " 'sure': 26182,\n",
              " 'glad': 12225,\n",
              " 'accidentally': 2331,\n",
              " 'rn': 23185,\n",
              " 'instead': 14338,\n",
              " 'rm': 23181,\n",
              " 'trying': 27513,\n",
              " 'delete': 8406,\n",
              " 'file': 11236,\n",
              " 'last': 15824,\n",
              " 'september': 24223,\n",
              " 'hmmm': 13335,\n",
              " 'bgrubbdantenmsuedu': 4522,\n",
              " 'grubb': 12585,\n",
              " 'ide': 13745,\n",
              " 'vs': 28624,\n",
              " 'scsi': 23969,\n",
              " 'mexico': 17529,\n",
              " 'state': 25585,\n",
              " 'las': 15814,\n",
              " 'cruces': 7739,\n",
              " 'nm': 18816,\n",
              " '44': 1449,\n",
              " 'dantenmsuedu': 8035,\n",
              " 'dxb132psuvmpsuedu': 9687,\n",
              " 'pc': 20314,\n",
              " 'magazine': 16734,\n",
              " 'april': 3384,\n",
              " '27': 1116,\n",
              " '199329': 818,\n",
              " 'although': 2943,\n",
              " 'twice': 27620,\n",
              " 'fasst': 11022,\n",
              " 'esdi': 10442,\n",
              " '20': 908,\n",
              " 'faster': 11026,\n",
              " 'devices': 8738,\n",
              " 'acceptance': 2316,\n",
              " 'long': 16442,\n",
              " 'been': 4339,\n",
              " 'stalled': 25523,\n",
              " 'incompatability': 14025,\n",
              " 'problems': 21448,\n",
              " 'installation': 14330,\n",
              " 'headaches': 13007,\n",
              " 'love': 16508,\n",
              " 'writers': 29455,\n",
              " 'stupid': 25925,\n",
              " 'statements': 25590,\n",
              " 'performance': 20440,\n",
              " 'those': 26917,\n",
              " 'numbers': 19090,\n",
              " 'list': 16298,\n",
              " 'actual': 2440,\n",
              " 'ranges': 22115,\n",
              " 'which': 29047,\n",
              " 'convince': 7374,\n",
              " 'such': 26024,\n",
              " 'statement': 25589,\n",
              " 'absurd': 2280,\n",
              " 'scsii': 23973,\n",
              " '05mbs': 180,\n",
              " 'scsiii': 23974,\n",
              " '083mbs': 210,\n",
              " 'always': 2964,\n",
              " '125mbs': 390,\n",
              " 'nonstandard': 18901,\n",
              " 'versions': 28392,\n",
              " 'shows': 24556,\n",
              " 'scsi1': 23970,\n",
              " 'controler': 7336,\n",
              " 'range': 22112,\n",
              " 'indeed': 14063,\n",
              " 'scsi2': 23971,\n",
              " 'controller': 7338,\n",
              " '46mbs': 1487,\n",
              " '10mbs': 295,\n",
              " 'burst': 5335,\n",
              " '8bit': 2067,\n",
              " 'note': 18972,\n",
              " 'increase': 14046,\n",
              " 'quadra': 21876,\n",
              " 'exist': 10692,\n",
              " 'too': 27159,\n",
              " 'mode': 17879,\n",
              " 'fast': 11023,\n",
              " '812mbs': 1984,\n",
              " '20mbs': 961,\n",
              " '32bitwide': 1250,\n",
              " '1520mbs': 529,\n",
              " '40mbs': 1404,\n",
              " 'data': 8071,\n",
              " 'correct': 7469,\n",
              " 'reach': 22222,\n",
              " '83': 2003,\n",
              " '996': 2179,\n",
              " 'facts': 10916,\n",
              " 'posted': 21114,\n",
              " 'newsgroup': 18674,\n",
              " 'ibm': 13720,\n",
              " 'sheet': 24419,\n",
              " 'available': 3901,\n",
              " 'ftp': 11805,\n",
              " 'sumexaimstanfordedu': 26073,\n",
              " '364406': 1315,\n",
              " 'txt': 27639,\n",
              " '173': 617,\n",
              " '161': 567,\n",
              " 'may': 17218,\n",
              " 'still': 25720,\n",
              " 'part': 20153,\n",
              " 'problem': 21446,\n",
              " 'both': 4935,\n",
              " 'though': 26919,\n",
              " 'documented': 9280,\n",
              " 'apple': 3333,\n",
              " 'salesperson': 23616,\n",
              " 'said': 23597,\n",
              " '5mbs': 1684,\n",
              " 'maximum': 17212,\n",
              " 'synchronous': 26350,\n",
              " 'slower': 24869,\n",
              " 'seems': 24074,\n",
              " 'interface': 14441,\n",
              " 'think': 26884,\n",
              " 'driven': 9537,\n",
              " 'true': 27491,\n",
              " 'go': 12288,\n",
              " 'slam': 24795,\n",
              " 'understand': 27825,\n",
              " 'going': 12320,\n",
              " 'one': 19462,\n",
              " 'reference': 22440,\n",
              " 'quadras': 21878,\n",
              " 'digital': 8885,\n",
              " 'review': 22979,\n",
              " 'oct': 19280,\n",
              " '21': 968,\n",
              " '1991': 809,\n",
              " 'v8': 28203,\n",
              " 'win': 29153,\n",
              " '30': 1179,\n",
              " 'icon': 13735,\n",
              " 'help': 13107,\n",
              " 'northern': 18951,\n",
              " 'iowa': 14619,\n",
              " '10': 225,\n",
              " 'downloaded': 9442,\n",
              " 'several': 24297,\n",
              " 'icons': 13737,\n",
              " 'bmps': 4783,\n",
              " 'cant': 5623,\n",
              " 'figure': 11232,\n",
              " 'change': 6028,\n",
              " 'wallpaper': 28715,\n",
              " 'appreciated': 3359,\n",
              " 'thanx': 26789,\n",
              " 'ps': 21701,\n",
              " 'stan': 25532,\n",
              " 'kerr': 15368,\n",
              " 'sigma': 24616,\n",
              " 'designs': 8620,\n",
              " 'double': 9404,\n",
              " 'illinois': 13823,\n",
              " 'urbana': 28061,\n",
              " '29': 1146,\n",
              " 'joseph': 15082,\n",
              " 'board': 4795,\n",
              " 'hardware': 12888,\n",
              " 'compression': 6961,\n",
              " 'works': 29370,\n",
              " 'also': 2926,\n",
              " 'over': 19828,\n",
              " 'work': 29356,\n",
              " 'due': 9618,\n",
              " 'licensing': 16175,\n",
              " 'technologies': 26593,\n",
              " 'owners': 19912,\n",
              " 'boards': 4797,\n",
              " 'technology': 26594,\n",
              " 'writing': 29458,\n",
              " 'lost': 16487,\n",
              " 'wrong': 29462,\n",
              " 'being': 4385,\n",
              " 'whether': 29045,\n",
              " 'fault': 11042,\n",
              " 'something': 25078,\n",
              " 'else': 10051,\n",
              " 'however': 13549,\n",
              " 'decompress': 8266,\n",
              " 'troubled': 27482,\n",
              " 'without': 29261,\n",
              " 'usually': 28118,\n",
              " 'above': 2253,\n",
              " 'mentioned': 17443,\n",
              " 'freeware': 11729,\n",
              " 'expansion': 10717,\n",
              " 'utility': 28128,\n",
              " 'dd': 8153,\n",
              " 'expand': 10711,\n",
              " 'unless': 27934,\n",
              " 'installed': 14332,\n",
              " 'product': 21488,\n",
              " 'now': 19014,\n",
              " 'unlikely': 27936,\n",
              " 'holes': 13378,\n",
              " 'related': 22567,\n",
              " 'fixed': 11349,\n",
              " 'sad': 23567,\n",
              " 'very': 28399,\n",
              " 'reluctant': 22617,\n",
              " 'buy': 5381,\n",
              " 'theyre': 26863,\n",
              " 'hey': 13200,\n",
              " 'thats': 26796,\n",
              " 'competition': 6901,\n",
              " 'computing': 6994,\n",
              " 'communications': 6842,\n",
              " 'services': 24263,\n",
              " 'office': 19334,\n",
              " 'illinoisurbana': 13824,\n",
              " 'phone': 20631,\n",
              " 'irwincmptrclonestarorg': 14679,\n",
              " 'irwin': 14678,\n",
              " 'arnstein': 3519,\n",
              " 'recommendation': 22350,\n",
              " 'duc': 9610,\n",
              " 'expires': 10755,\n",
              " 'sat': 23698,\n",
              " '1993': 815,\n",
              " '050000': 167,\n",
              " 'gmt': 12282,\n",
              " 'computrac': 6995,\n",
              " 'inc': 13991,\n",
              " 'richardson': 23054,\n",
              " 'tx': 27637,\n",
              " 'ducati': 9611,\n",
              " 'gts': 12617,\n",
              " '13': 428,\n",
              " '1978': 783,\n",
              " 'runs': 23476,\n",
              " 'paint': 20009,\n",
              " 'faded': 10921,\n",
              " 'leaks': 15961,\n",
              " 'oil': 19377,\n",
              " 'pops': 21046,\n",
              " '1st': 903,\n",
              " 'accel': 2305,\n",
              " 'shop': 24503,\n",
              " 'trans': 27301,\n",
              " 'leak': 15958,\n",
              " 'sold': 25038,\n",
              " 'bike': 4577,\n",
              " 'owner': 19911,\n",
              " 'want': 28747,\n",
              " 'thinking': 26886,\n",
              " 'stable': 25498,\n",
              " 'mate': 17139,\n",
              " 'beemer': 4337,\n",
              " 'jap': 14842,\n",
              " 'myself': 18337,\n",
              " 'axis': 3959,\n",
              " 'motors': 18102,\n",
              " 'honk': 13438,\n",
              " 'therefore': 26845,\n",
              " 'dod': 9284,\n",
              " 'r756': 21994,\n",
              " 'davidterminusericssonse': 8109,\n",
              " 'david': 8096,\n",
              " 'bold': 4839,\n",
              " 'popular': 21048,\n",
              " 'morality': 18018,\n",
              " 'electronics': 10003,\n",
              " 'ericsson': 10398,\n",
              " 'leicester': 16056,\n",
              " 'england': 10228,\n",
              " '77': 1929,\n",
              " 'ad354freenetcarletonca': 2451,\n",
              " 'james': 14826,\n",
              " 'owens': 19907,\n",
              " 'previous': 21370,\n",
              " 'rude': 23439,\n",
              " 'youve': 29901,\n",
              " 'hold': 13371,\n",
              " 'end': 10176,\n",
              " 'different': 8863,\n",
              " 'stick': 25708,\n",
              " 'look': 16453,\n",
              " 'posting': 21121,\n",
              " 'again': 2666,\n",
              " 'intent': 14412,\n",
              " 'explaining': 10760,\n",
              " 'jung': 15180,\n",
              " 'moral': 18015,\n",
              " 'god': 12302,\n",
              " 'overlooked': 19854,\n",
              " 'main': 16798,\n",
              " 'seem': 24069,\n",
              " 'saying': 23752,\n",
              " 'unknowable': 27928,\n",
              " 'his': 13292,\n",
              " 'yep': 29844,\n",
              " 'jew': 14958,\n",
              " 'jewish': 14960,\n",
              " 'jews': 14962,\n",
              " 'covenant': 7579,\n",
              " 'between': 4503,\n",
              " 'yhwh': 29854,\n",
              " 'abraham': 2257,\n",
              " 'moses': 18061,\n",
              " 'case': 5746,\n",
              " 'establishes': 10470,\n",
              " 'follow': 11503,\n",
              " 'mankind': 16921,\n",
              " 'decide': 8230,\n",
              " 'boundaries': 4957,\n",
              " 'fall': 10956,\n",
              " 'believed': 4398,\n",
              " 'torah': 27182,\n",
              " 'required': 22779,\n",
              " 'whereas': 29039,\n",
              " 'pharisees': 20574,\n",
              " 'ancestors': 3096,\n",
              " 'judaism': 15137,\n",
              " 'interpretation': 14476,\n",
              " 'lead': 15942,\n",
              " 'nuances': 19068,\n",
              " 'essence': 10462,\n",
              " 'biblical': 4547,\n",
              " 'man': 16875,\n",
              " 'christian': 6257,\n",
              " 'necessarily': 18514,\n",
              " 'indicate': 14078,\n",
              " 'anything': 3269,\n",
              " 'outside': 19813,\n",
              " 'relationship': 22572,\n",
              " 'speculate': 25265,\n",
              " 'comes': 6771,\n",
              " 'mind': 17685,\n",
              " 'created': 7649,\n",
              " 'image': 13848,\n",
              " 'committed': 6824,\n",
              " 'live': 16330,\n",
              " 'christs': 6267,\n",
              " 'example': 10605,\n",
              " 'pressed': 21332,\n",
              " 'argue': 3465,\n",
              " 'kind': 15450,\n",
              " 'trouble': 27481,\n",
              " 'come': 6767,\n",
              " 'conclusion': 7033,\n",
              " 'cart': 5733,\n",
              " 'wants': 28750,\n",
              " 'script': 23954,\n",
              " 'shaky': 24357,\n",
              " 'foundation': 11635,\n",
              " 'mix': 17819,\n",
              " 'living': 16344,\n",
              " 'little': 16325,\n",
              " 'jesus': 14954,\n",
              " 'recorded': 22362,\n",
              " 'narratives': 18417,\n",
              " 'followers': 11506,\n",
              " 'references': 22442,\n",
              " 'historians': 13301,\n",
              " 'revelation': 22967,\n",
              " 'aside': 3601,\n",
              " 'christ': 6253,\n",
              " 'secondhand': 24029,\n",
              " 'worse': 29394,\n",
              " 'attempt': 3784,\n",
              " 'debunk': 8209,\n",
              " 'christianity': 6258,\n",
              " 'initially': 14236,\n",
              " 'bible': 4545,\n",
              " 'interpret': 14475,\n",
              " 'humanity': 13621,\n",
              " 'guess': 12638,\n",
              " 'faith': 10946,\n",
              " 'inherent': 14217,\n",
              " 'multiple': 18224,\n",
              " 'codes': 6648,\n",
              " 'absolute': 2266,\n",
              " 'theologically': 26824,\n",
              " 'questionable': 21935,\n",
              " 'undoubtably': 27846,\n",
              " 'founded': 11637,\n",
              " 'parent': 20121,\n",
              " 'child': 6173,\n",
              " 'never': 18648,\n",
              " 'swear': 26276,\n",
              " 'assume': 3680,\n",
              " 'swears': 26277,\n",
              " 'simply': 24668,\n",
              " 'told': 27114,\n",
              " 'trooper': 27475,\n",
              " 'pub': 21737,\n",
              " 'bar': 4124,\n",
              " 'children': 6177,\n",
              " 'wrongness': 29468,\n",
              " 'here': 13145,\n",
              " 'inappropriate': 13988,\n",
              " 'quite': 21963,\n",
              " 'happy': 12865,\n",
              " 'animals': 3153,\n",
              " 'analogy': 3075,\n",
              " 'water': 28823,\n",
              " 'knows': 15558,\n",
              " 'same': 23631,\n",
              " 'type': 27644,\n",
              " 'gist': 12215,\n",
              " 'incidentally': 14010,\n",
              " 'young': 29883,\n",
              " 'considers': 7194,\n",
              " 'directive': 8945,\n",
              " 'until': 28002,\n",
              " 'gets': 12159,\n",
              " 'older': 19406,\n",
              " 'learns': 15972,\n",
              " 'religion': 22609,\n",
              " 'oh': 19364,\n",
              " 'sea': 23995,\n",
              " 'fishes': 11331,\n",
              " 'cried': 7677,\n",
              " 'swam': 26265,\n",
              " 'clearness': 6461,\n",
              " 'rod': 23248,\n",
              " 'hewlett': 13196,\n",
              " 'packard': 19970,\n",
              " 'fort': 11610,\n",
              " 'collins': 6714,\n",
              " 'co': 6603,\n",
              " 'pl85': 20811,\n",
              " 'regards': 22498,\n",
              " 'ms': 18162,\n",
              " '37': 1321,\n",
              " 'east': 9759,\n",
              " ...}"
            ]
          },
          "metadata": {},
          "execution_count": 74
        }
      ]
    },
    {
      "cell_type": "markdown",
      "metadata": {
        "id": "MnHe2WcpDRJ_"
      },
      "source": [
        "Recall that for Naive Bayes, we find label that satisfy \n",
        "$$c=\\arg\\max_{c'} p(c')\\prod p(x_i|c')$$\n",
        "**Assigment 2** : We will derive prior probabilities $p(c')$ from data by computing frequency of class. You have to compute the number of documents in each class in `class_freq` variable, and divide to the total number of documents to get prior probability in `prior_prob` variable **(1pt)** <br>\n",
        "*Hint* To count the number of data with given class, you can use `np.unique` function with argument `return_counts=True`. To get summation of a numpy array, you coud use `np.sum` function"
      ]
    },
    {
      "cell_type": "code",
      "execution_count": 95,
      "metadata": {
        "id": "tyufOD_ODQra"
      },
      "outputs": [],
      "source": [
        "import numpy as np\n",
        "classes,class_freq = np.unique(newsgroups_train.target,return_counts=True)\n",
        "prior_proba = class_freq/np.sum(class_freq)\n"
      ]
    },
    {
      "cell_type": "markdown",
      "metadata": {
        "id": "ib3LX3zVGe0L"
      },
      "source": [
        "**Assigment 3** : In this step, we will implement Bernoulli Naive Bayes. Therefore, the conditional probability is probability of that a document with label $c$ has the word $x_i$. <br>\n",
        "To do that, we need the number of documents which has word $x_i$ and label $c$ for every pair $(x_i,c)$. Your task is computing these values and store them in `word_label_freq` variable. It should be a numpy array for fast computing in the next step. **(0.5.pt)** <br>\n",
        "*Hint:* Our `'train_data` features are the number of occurences of words in documents. You can convert them to binary feature that whether a word appears in a document. To get all data of a given class, you can use [boolean index select](https://numpy.org/doc/stable/user/basics.indexing.html#boolean-array-indexing). To sum up a 2d numpy array along a selected dimension, you can use `np.sum(..., axis=...)`"
      ]
    },
    {
      "cell_type": "code",
      "execution_count": 108,
      "metadata": {
        "id": "x5c39g3zFKX6"
      },
      "outputs": [],
      "source": [
        "word_label_freq = class_freq / np.sum(class_freq,axis = 0)"
      ]
    },
    {
      "cell_type": "markdown",
      "metadata": {
        "id": "uDRlWLSdGiXu"
      },
      "source": [
        "**Assigment 4** : \n",
        "The conditional probability is computed by dividing the number of documents which has word $x_i$ and label $c$ to the number of documents with label $c$. However, if there is no document which has word $x_i$ and label $c$ in training data, the probability will be zero, which is undesirable. <br>\n",
        "To handle this problem, we can apply Laplace smoothing, then conditional probability will be computed as following\n",
        "$$p(x_i=1|c) = \\frac{N_{ic} + \\alpha}{N_c +|V|\\alpha}$$\n",
        "where $|V|$ is the number of words, which is `30000` here. <br>\n",
        "Your task here is implementing this formula with default `alpha=0.01` and then fill in all the probability values in `cond_prob` variable. It should be a numpy array for fast computing in the next step. **(1pt)**"
      ]
    },
    {
      "cell_type": "code",
      "execution_count": 109,
      "metadata": {
        "id": "015-PXOs2qSl"
      },
      "outputs": [],
      "source": [
        "alpha = 0.01"
      ]
    },
    {
      "cell_type": "code",
      "execution_count": 110,
      "metadata": {
        "id": "cH_GMi4nFSzk"
      },
      "outputs": [],
      "source": [
        "cond_prob = np.array([(word_label_freq[i] + alpha)/(class_freq[i] + num_word * alpha) for i in range(len(class_freq))])"
      ]
    },
    {
      "cell_type": "markdown",
      "metadata": {
        "id": "AsBHViWqGj9U"
      },
      "source": [
        "**Assigment 5** : For test data, the conditional probabily follows Bernoulli distribution and is computed by\n",
        "$$p(x_i|c) = p(x_i=1|c)x_i + p(x_i=0|c)(1 - x_i)$$\n",
        "Then we multiply with prior probability and select the class with highest value as predicted label. For numerical stability, you should use log probability to compute. **(2pt)** <br>\n",
        "$$c = \\arg\\max_{c'}(\\log p(c')+\\sum_{x_i\\in vocab}\\log p(x_i|c'))$$\n",
        "*Hint* Remember to convert test data feature to binary feature as training data.\n"
      ]
    },
    {
      "cell_type": "code",
      "execution_count": 111,
      "metadata": {
        "id": "ZbLeeFp43Eg7"
      },
      "outputs": [],
      "source": [
        "\n",
        "def find_label(data):\n",
        "  data = np.array(data.toarray()).flatten()\n",
        "  class1= np.where(data > 0)\n",
        "  class0 = np.where(data==0)\n",
        "  \n",
        "  mx_val = -1e18\n",
        "  result_class = 0\n",
        "  for i,class_val in enumerate(cond_prob):\n",
        "    prod = np.log(prior_proba[i]) + np.sum(np.log(class_val[class0])) + np.sum(np.log(1 - class_val[class1]))\n",
        "    if prod >= mx_val:\n",
        "      result_class = i\n",
        "      mx_val = prod\n",
        "  return result_class"
      ]
    },
    {
      "cell_type": "markdown",
      "metadata": {
        "id": "epm5l9atNAMr"
      },
      "source": [
        "Now we can obtain labels and accuracy score of model on test data"
      ]
    },
    {
      "cell_type": "code",
      "execution_count": 112,
      "metadata": {
        "id": "bxBsRI6f4Jym"
      },
      "outputs": [],
      "source": [
        "preprocessed_test_text = [remove_tokens(punctuation, text) for text in newsgroups_test.data]\n",
        "test_data = vectorizer.transform(preprocessed_test_text)"
      ]
    },
    {
      "cell_type": "code",
      "execution_count": 113,
      "metadata": {
        "colab": {
          "base_uri": "https://localhost:8080/",
          "height": 339
        },
        "id": "wNLWpQMc4a9s",
        "outputId": "97b4254c-9196-4ebe-8244-2ee08bbf9978"
      },
      "outputs": [
        {
          "output_type": "stream",
          "name": "stderr",
          "text": [
            "0it [00:00, ?it/s]\n"
          ]
        },
        {
          "output_type": "error",
          "ename": "IndexError",
          "evalue": "ignored",
          "traceback": [
            "\u001b[0;31m---------------------------------------------------------------------------\u001b[0m",
            "\u001b[0;31mIndexError\u001b[0m                                Traceback (most recent call last)",
            "\u001b[0;32m<ipython-input-113-b53841df5d92>\u001b[0m in \u001b[0;36m<module>\u001b[0;34m\u001b[0m\n\u001b[1;32m      2\u001b[0m \u001b[0;32mfrom\u001b[0m \u001b[0mtqdm\u001b[0m \u001b[0;32mimport\u001b[0m \u001b[0mtqdm\u001b[0m\u001b[0;34m\u001b[0m\u001b[0;34m\u001b[0m\u001b[0m\n\u001b[1;32m      3\u001b[0m \u001b[0;32mfor\u001b[0m \u001b[0mtext\u001b[0m \u001b[0;32min\u001b[0m \u001b[0mtqdm\u001b[0m\u001b[0;34m(\u001b[0m\u001b[0mtest_data\u001b[0m\u001b[0;34m)\u001b[0m\u001b[0;34m:\u001b[0m\u001b[0;34m\u001b[0m\u001b[0;34m\u001b[0m\u001b[0m\n\u001b[0;32m----> 4\u001b[0;31m     \u001b[0mpred\u001b[0m\u001b[0;34m.\u001b[0m\u001b[0mappend\u001b[0m\u001b[0;34m(\u001b[0m\u001b[0mfind_label\u001b[0m\u001b[0;34m(\u001b[0m\u001b[0mtext\u001b[0m\u001b[0;34m)\u001b[0m\u001b[0;34m)\u001b[0m\u001b[0;34m\u001b[0m\u001b[0;34m\u001b[0m\u001b[0m\n\u001b[0m",
            "\u001b[0;32m<ipython-input-111-bc24a125d29f>\u001b[0m in \u001b[0;36mfind_label\u001b[0;34m(data)\u001b[0m\n\u001b[1;32m      7\u001b[0m   \u001b[0mresult_class\u001b[0m \u001b[0;34m=\u001b[0m \u001b[0;36m0\u001b[0m\u001b[0;34m\u001b[0m\u001b[0;34m\u001b[0m\u001b[0m\n\u001b[1;32m      8\u001b[0m   \u001b[0;32mfor\u001b[0m \u001b[0mi\u001b[0m\u001b[0;34m,\u001b[0m\u001b[0mclass_val\u001b[0m \u001b[0;32min\u001b[0m \u001b[0menumerate\u001b[0m\u001b[0;34m(\u001b[0m\u001b[0mcond_prob\u001b[0m\u001b[0;34m)\u001b[0m\u001b[0;34m:\u001b[0m\u001b[0;34m\u001b[0m\u001b[0;34m\u001b[0m\u001b[0m\n\u001b[0;32m----> 9\u001b[0;31m     \u001b[0mprod\u001b[0m \u001b[0;34m=\u001b[0m \u001b[0mnp\u001b[0m\u001b[0;34m.\u001b[0m\u001b[0mlog\u001b[0m\u001b[0;34m(\u001b[0m\u001b[0mprior_proba\u001b[0m\u001b[0;34m[\u001b[0m\u001b[0mi\u001b[0m\u001b[0;34m]\u001b[0m\u001b[0;34m)\u001b[0m \u001b[0;34m+\u001b[0m \u001b[0mnp\u001b[0m\u001b[0;34m.\u001b[0m\u001b[0msum\u001b[0m\u001b[0;34m(\u001b[0m\u001b[0mnp\u001b[0m\u001b[0;34m.\u001b[0m\u001b[0mlog\u001b[0m\u001b[0;34m(\u001b[0m\u001b[0mclass_val\u001b[0m\u001b[0;34m[\u001b[0m\u001b[0mclass0\u001b[0m\u001b[0;34m]\u001b[0m\u001b[0;34m)\u001b[0m\u001b[0;34m)\u001b[0m \u001b[0;34m+\u001b[0m \u001b[0mnp\u001b[0m\u001b[0;34m.\u001b[0m\u001b[0msum\u001b[0m\u001b[0;34m(\u001b[0m\u001b[0mnp\u001b[0m\u001b[0;34m.\u001b[0m\u001b[0mlog\u001b[0m\u001b[0;34m(\u001b[0m\u001b[0;36m1\u001b[0m \u001b[0;34m-\u001b[0m \u001b[0mclass_val\u001b[0m\u001b[0;34m[\u001b[0m\u001b[0mclass1\u001b[0m\u001b[0;34m]\u001b[0m\u001b[0;34m)\u001b[0m\u001b[0;34m)\u001b[0m\u001b[0;34m\u001b[0m\u001b[0;34m\u001b[0m\u001b[0m\n\u001b[0m\u001b[1;32m     10\u001b[0m     \u001b[0;32mif\u001b[0m \u001b[0mprod\u001b[0m \u001b[0;34m>=\u001b[0m \u001b[0mmx_val\u001b[0m\u001b[0;34m:\u001b[0m\u001b[0;34m\u001b[0m\u001b[0;34m\u001b[0m\u001b[0m\n\u001b[1;32m     11\u001b[0m       \u001b[0mresult_class\u001b[0m \u001b[0;34m=\u001b[0m \u001b[0mi\u001b[0m\u001b[0;34m\u001b[0m\u001b[0;34m\u001b[0m\u001b[0m\n",
            "\u001b[0;31mIndexError\u001b[0m: invalid index to scalar variable."
          ]
        }
      ],
      "source": [
        "pred = []\n",
        "from tqdm import tqdm\n",
        "for text in tqdm(test_data):\n",
        "    pred.append(find_label(text))"
      ]
    },
    {
      "cell_type": "code",
      "execution_count": null,
      "metadata": {
        "colab": {
          "base_uri": "https://localhost:8080/",
          "height": 328
        },
        "id": "MSEKT9t-7KgT",
        "outputId": "4fac60f4-6784-41f3-a051-0a546da7f1aa"
      },
      "outputs": [
        {
          "output_type": "error",
          "ename": "ValueError",
          "evalue": "ignored",
          "traceback": [
            "\u001b[0;31m---------------------------------------------------------------------------\u001b[0m",
            "\u001b[0;31mValueError\u001b[0m                                Traceback (most recent call last)",
            "\u001b[0;32m<ipython-input-51-6f1bbdf3cfb2>\u001b[0m in \u001b[0;36m<module>\u001b[0;34m\u001b[0m\n\u001b[1;32m      1\u001b[0m \u001b[0;32mfrom\u001b[0m \u001b[0msklearn\u001b[0m \u001b[0;32mimport\u001b[0m \u001b[0mmetrics\u001b[0m\u001b[0;34m\u001b[0m\u001b[0;34m\u001b[0m\u001b[0m\n\u001b[0;32m----> 2\u001b[0;31m \u001b[0mmetrics\u001b[0m\u001b[0;34m.\u001b[0m\u001b[0maccuracy_score\u001b[0m\u001b[0;34m(\u001b[0m\u001b[0mpred\u001b[0m\u001b[0;34m,\u001b[0m \u001b[0mnewsgroups_test\u001b[0m\u001b[0;34m.\u001b[0m\u001b[0mtarget\u001b[0m\u001b[0;34m)\u001b[0m\u001b[0;34m\u001b[0m\u001b[0;34m\u001b[0m\u001b[0m\n\u001b[0m",
            "\u001b[0;32m/usr/local/lib/python3.7/dist-packages/sklearn/metrics/_classification.py\u001b[0m in \u001b[0;36maccuracy_score\u001b[0;34m(y_true, y_pred, normalize, sample_weight)\u001b[0m\n\u001b[1;32m    209\u001b[0m \u001b[0;34m\u001b[0m\u001b[0m\n\u001b[1;32m    210\u001b[0m     \u001b[0;31m# Compute accuracy for each possible representation\u001b[0m\u001b[0;34m\u001b[0m\u001b[0;34m\u001b[0m\u001b[0;34m\u001b[0m\u001b[0m\n\u001b[0;32m--> 211\u001b[0;31m     \u001b[0my_type\u001b[0m\u001b[0;34m,\u001b[0m \u001b[0my_true\u001b[0m\u001b[0;34m,\u001b[0m \u001b[0my_pred\u001b[0m \u001b[0;34m=\u001b[0m \u001b[0m_check_targets\u001b[0m\u001b[0;34m(\u001b[0m\u001b[0my_true\u001b[0m\u001b[0;34m,\u001b[0m \u001b[0my_pred\u001b[0m\u001b[0;34m)\u001b[0m\u001b[0;34m\u001b[0m\u001b[0;34m\u001b[0m\u001b[0m\n\u001b[0m\u001b[1;32m    212\u001b[0m     \u001b[0mcheck_consistent_length\u001b[0m\u001b[0;34m(\u001b[0m\u001b[0my_true\u001b[0m\u001b[0;34m,\u001b[0m \u001b[0my_pred\u001b[0m\u001b[0;34m,\u001b[0m \u001b[0msample_weight\u001b[0m\u001b[0;34m)\u001b[0m\u001b[0;34m\u001b[0m\u001b[0;34m\u001b[0m\u001b[0m\n\u001b[1;32m    213\u001b[0m     \u001b[0;32mif\u001b[0m \u001b[0my_type\u001b[0m\u001b[0;34m.\u001b[0m\u001b[0mstartswith\u001b[0m\u001b[0;34m(\u001b[0m\u001b[0;34m\"multilabel\"\u001b[0m\u001b[0;34m)\u001b[0m\u001b[0;34m:\u001b[0m\u001b[0;34m\u001b[0m\u001b[0;34m\u001b[0m\u001b[0m\n",
            "\u001b[0;32m/usr/local/lib/python3.7/dist-packages/sklearn/metrics/_classification.py\u001b[0m in \u001b[0;36m_check_targets\u001b[0;34m(y_true, y_pred)\u001b[0m\n\u001b[1;32m     82\u001b[0m     \u001b[0my_pred\u001b[0m \u001b[0;34m:\u001b[0m \u001b[0marray\u001b[0m \u001b[0;32mor\u001b[0m \u001b[0mindicator\u001b[0m \u001b[0mmatrix\u001b[0m\u001b[0;34m\u001b[0m\u001b[0;34m\u001b[0m\u001b[0m\n\u001b[1;32m     83\u001b[0m     \"\"\"\n\u001b[0;32m---> 84\u001b[0;31m     \u001b[0mcheck_consistent_length\u001b[0m\u001b[0;34m(\u001b[0m\u001b[0my_true\u001b[0m\u001b[0;34m,\u001b[0m \u001b[0my_pred\u001b[0m\u001b[0;34m)\u001b[0m\u001b[0;34m\u001b[0m\u001b[0;34m\u001b[0m\u001b[0m\n\u001b[0m\u001b[1;32m     85\u001b[0m     \u001b[0mtype_true\u001b[0m \u001b[0;34m=\u001b[0m \u001b[0mtype_of_target\u001b[0m\u001b[0;34m(\u001b[0m\u001b[0my_true\u001b[0m\u001b[0;34m)\u001b[0m\u001b[0;34m\u001b[0m\u001b[0;34m\u001b[0m\u001b[0m\n\u001b[1;32m     86\u001b[0m     \u001b[0mtype_pred\u001b[0m \u001b[0;34m=\u001b[0m \u001b[0mtype_of_target\u001b[0m\u001b[0;34m(\u001b[0m\u001b[0my_pred\u001b[0m\u001b[0;34m)\u001b[0m\u001b[0;34m\u001b[0m\u001b[0;34m\u001b[0m\u001b[0m\n",
            "\u001b[0;32m/usr/local/lib/python3.7/dist-packages/sklearn/utils/validation.py\u001b[0m in \u001b[0;36mcheck_consistent_length\u001b[0;34m(*arrays)\u001b[0m\n\u001b[1;32m    332\u001b[0m         raise ValueError(\n\u001b[1;32m    333\u001b[0m             \u001b[0;34m\"Found input variables with inconsistent numbers of samples: %r\"\u001b[0m\u001b[0;34m\u001b[0m\u001b[0;34m\u001b[0m\u001b[0m\n\u001b[0;32m--> 334\u001b[0;31m             \u001b[0;34m%\u001b[0m \u001b[0;34m[\u001b[0m\u001b[0mint\u001b[0m\u001b[0;34m(\u001b[0m\u001b[0ml\u001b[0m\u001b[0;34m)\u001b[0m \u001b[0;32mfor\u001b[0m \u001b[0ml\u001b[0m \u001b[0;32min\u001b[0m \u001b[0mlengths\u001b[0m\u001b[0;34m]\u001b[0m\u001b[0;34m\u001b[0m\u001b[0;34m\u001b[0m\u001b[0m\n\u001b[0m\u001b[1;32m    335\u001b[0m         )\n\u001b[1;32m    336\u001b[0m \u001b[0;34m\u001b[0m\u001b[0m\n",
            "\u001b[0;31mValueError\u001b[0m: Found input variables with inconsistent numbers of samples: [0, 7532]"
          ]
        }
      ],
      "source": [
        "from sklearn import metrics\n",
        "metrics.accuracy_score(pred, newsgroups_test.target)"
      ]
    },
    {
      "cell_type": "markdown",
      "metadata": {
        "id": "x70hGH3RGlbI"
      },
      "source": [
        "**Assigment 6** : Next, we will implement Multinomial Naive Bayes. For this model, the conditional probability follows multinomial distribution. We have to estimate conditional probabilities from data as the frequency of words in all documents with a given class. <br>\n",
        "First, you have to count the number of occurences of a word $x_i$ in all document with class $c$ **(0.5pt)**."
      ]
    },
    {
      "cell_type": "code",
      "execution_count": null,
      "metadata": {
        "id": "_ZGCBLk8FaHw"
      },
      "outputs": [],
      "source": [
        "word_label_freq = ..."
      ]
    },
    {
      "cell_type": "markdown",
      "metadata": {
        "id": "4GP4fhl_GsOQ"
      },
      "source": [
        "**Assigment 7** : Your task here is to count the total number of words in all documents of class $c$ to compute probability in next step. **(0.5)pt** <br>\n",
        "*Hint* You can sum the number of occurences of all words in class $c$ that we obtained in last step."
      ]
    },
    {
      "cell_type": "code",
      "execution_count": null,
      "metadata": {
        "id": "W2yAJ49sFud0"
      },
      "outputs": [],
      "source": [
        "num_word_in_classes = ..."
      ]
    },
    {
      "cell_type": "markdown",
      "metadata": {
        "id": "9S4qCZrtGtwO"
      },
      "source": [
        "**Assigment 8** : Now we can compute conditional probability for every pair $(x_i, c)$. Similar to Bernoulli Naive Bayes, we also add Laplace smoothing to avoid zero probability\n",
        "$$p(x_i|c) = \\frac{N_{ic} + \\alpha}{N_c +|V|\\alpha}$$\n",
        "where $N_{ic}$ is the number of occurences of word $x_i$ in all documents with class $c$, $N_c$ is the total number of words in all documents of class $c$. <br>\n",
        "For numerical stability, you should compute log of probablity **(1pt)**.\n",
        "$$\\log p(x_i|c) = \\log (N_{ic} + \\alpha) - \\log(N_c +|V|\\alpha)$$"
      ]
    },
    {
      "cell_type": "code",
      "execution_count": null,
      "metadata": {
        "id": "gUMX_iwDFwr3"
      },
      "outputs": [],
      "source": [
        "log_cond_prob = ..."
      ]
    },
    {
      "cell_type": "markdown",
      "metadata": {
        "id": "whEfFBPC-W2H"
      },
      "source": [
        "**Assignment 9** : After getting all necessary probabilities, we can find label of new test data. For this task, you have to implement `find_label` function that compute product of prior and conditional probablities, and select the label with highest value. Finally, you can get prediction for all test data and get accuracy score **(3pt)**.\n",
        "$$c = \\arg\\max_{c'}(\\log p(c')+\\sum_{x_i\\in text}\\log p(x_i|c'))$$"
      ]
    },
    {
      "cell_type": "code",
      "execution_count": null,
      "metadata": {
        "id": "J7pylT3i_CiO"
      },
      "outputs": [],
      "source": [
        "def find_label(data):\n",
        "    \"\"\"\n",
        "      Your code here\n",
        "    \"\"\""
      ]
    },
    {
      "cell_type": "code",
      "execution_count": null,
      "metadata": {
        "colab": {
          "base_uri": "https://localhost:8080/"
        },
        "id": "WHolEq4mb3Jc",
        "outputId": "82d8edce-36f8-4e39-8a88-615a32ed2870"
      },
      "outputs": [
        {
          "name": "stderr",
          "output_type": "stream",
          "text": [
            "7532it [00:06, 1131.14it/s]\n"
          ]
        },
        {
          "data": {
            "text/plain": [
              "0.8266064790228359"
            ]
          },
          "execution_count": 191,
          "metadata": {},
          "output_type": "execute_result"
        }
      ],
      "source": [
        "pred = []\n",
        "for text in tqdm(test_data):\n",
        "    pred.append(find_label(text))\n",
        "metrics.accuracy_score(pred, newsgroups_test.target)"
      ]
    },
    {
      "cell_type": "markdown",
      "metadata": {
        "id": "VU9JwQ85N6bv"
      },
      "source": [
        "**(Optional)** Try to improve performance of Naive Bayes model in this dataset. You can try everything to do this, i.e. change hyperparameters, preprocess data, ..."
      ]
    }
  ],
  "metadata": {
    "colab": {
      "provenance": [],
      "include_colab_link": true
    },
    "kernelspec": {
      "display_name": "Python 3",
      "name": "python3"
    },
    "language_info": {
      "name": "python"
    }
  },
  "nbformat": 4,
  "nbformat_minor": 0
}